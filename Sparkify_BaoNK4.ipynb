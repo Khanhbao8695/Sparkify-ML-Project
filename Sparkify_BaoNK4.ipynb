{
 "cells": [
  {
   "cell_type": "markdown",
   "metadata": {},
   "source": [
    "# Sparkify Project Workspace\n",
    "\n",
    "### Author by: Bao Khanh Nguyen"
   ]
  },
  {
   "cell_type": "markdown",
   "metadata": {},
   "source": [
    "## Table of Contents\n",
    "\n"
   ]
  },
  {
   "cell_type": "markdown",
   "metadata": {},
   "source": [
    "## Introduction\n",
    "\n",
    "For this project, I will apply my Data Engineering skill to load, transform and process a music app dataset named Spark, which is quite similar with Spotify for predicting churn. If we can predict and identify customers before they churn or then they cancel their service altogether, the business could provide promotion packages like discounts and incentives to prevent customers leave their services, and could save the businesses a lot of money. <br>\n",
    "\n",
    "This project cointains only a small subset (128 MB) of the full dataset available (12 GB)\n",
    "\n",
    "Let's we import the necessary libraries, and get our hand dirty\n"
   ]
  },
  {
   "cell_type": "code",
   "execution_count": 1,
   "metadata": {},
   "outputs": [],
   "source": [
    "# Import necessary libraries, and spark packages\n",
    "\n",
    "# Spark Sessions\n",
    "import pyspark\n",
    "from pyspark import SparkConf\n",
    "from pyspark.sql import SparkSession\n",
    "# Spark functions, and types\n",
    "from pyspark.sql.functions import udf\n",
    "from pyspark.sql.types import StringType\n",
    "from pyspark.sql.types import IntegerType\n",
    "from pyspark.sql.functions import isnan, count, when, col, desc, udf, col, sort_array, asc, avg\n",
    "from pyspark.sql.functions import sum as Fsum\n",
    "from pyspark.sql.window import Window\n",
    "from pyspark.sql import Row\n",
    "from pyspark.sql import functions as F\n",
    "from pyspark.sql.functions import *\n",
    "# for ML models and pipeline\n",
    "from pyspark.ml import Pipeline\n",
    "from pyspark.ml.classification import LogisticRegression, RandomForestClassifier, GBTClassifier, LinearSVC, NaiveBayes\n",
    "from pyspark.ml.evaluation import MulticlassClassificationEvaluator\n",
    "from pyspark.ml.feature import CountVectorizer, IDF, PCA, RegexTokenizer, VectorAssembler, Normalizer, StandardScaler\n",
    "from pyspark.ml.regression import LinearRegression\n",
    "from pyspark.ml.tuning import CrossValidator, ParamGridBuilder\n",
    "\n",
    "# Import package for datetime transformation\n",
    "import datetime\n",
    "import time\n",
    "# Import necessary packages \n",
    "import pandas as pd\n",
    "import numpy as np\n",
    "# Import to regex process\n",
    "import re\n",
    "# Visualization\n",
    "import matplotlib.pyplot as plt\n",
    "import seaborn as sns\n",
    "%matplotlib inline\n",
    "\n"
   ]
  },
  {
   "cell_type": "markdown",
   "metadata": {},
   "source": [
    "Spark Session Creation"
   ]
  },
  {
   "cell_type": "code",
   "execution_count": 2,
   "metadata": {},
   "outputs": [
    {
     "data": {
      "text/plain": [
       "[('spark.rdd.compress', 'True'),\n",
       " ('spark.app.id', 'local-1670413250873'),\n",
       " ('spark.serializer.objectStreamReset', '100'),\n",
       " ('spark.app.name', 'Bao Pipeline'),\n",
       " ('spark.driver.host', '48959a3bb2ba'),\n",
       " ('spark.master', 'local[*]'),\n",
       " ('spark.executor.id', 'driver'),\n",
       " ('spark.submit.deployMode', 'client'),\n",
       " ('spark.driver.port', '35265'),\n",
       " ('spark.ui.showConsoleProgress', 'true')]"
      ]
     },
     "execution_count": 2,
     "metadata": {},
     "output_type": "execute_result"
    }
   ],
   "source": [
    "# Create Spark Session\n",
    "spark = SparkSession.builder.appName(\"Bao Pipeline\") .getOrCreate()\n",
    "# Check configuration\n",
    "spark.sparkContext.getConf().getAll()"
   ]
  },
  {
   "cell_type": "markdown",
   "metadata": {},
   "source": [
    "# Load and Clean Dataset\n",
    "In this workspace, we will process our mini-dataset file `mini_sparkify_event_data.json`. We will step by step load, clean and check for invalid or missing in this dataset. For example, a records without userids or sessionides could be identified as invalid \n"
   ]
  },
  {
   "cell_type": "code",
   "execution_count": 3,
   "metadata": {
    "scrolled": true
   },
   "outputs": [
    {
     "name": "stdout",
     "output_type": "stream",
     "text": [
      "DataFrame[summary: string, artist: string, auth: string, firstName: string, gender: string, itemInSession: string, lastName: string, length: string, level: string, location: string, method: string, page: string, registration: string, sessionId: string, song: string, status: string, ts: string, userAgent: string, userId: string]\n",
      "The original dataset before any cleaning and transform actions: 286500\n",
      "root\n",
      " |-- artist: string (nullable = true)\n",
      " |-- auth: string (nullable = true)\n",
      " |-- firstName: string (nullable = true)\n",
      " |-- gender: string (nullable = true)\n",
      " |-- itemInSession: long (nullable = true)\n",
      " |-- lastName: string (nullable = true)\n",
      " |-- length: double (nullable = true)\n",
      " |-- level: string (nullable = true)\n",
      " |-- location: string (nullable = true)\n",
      " |-- method: string (nullable = true)\n",
      " |-- page: string (nullable = true)\n",
      " |-- registration: long (nullable = true)\n",
      " |-- sessionId: long (nullable = true)\n",
      " |-- song: string (nullable = true)\n",
      " |-- status: long (nullable = true)\n",
      " |-- ts: long (nullable = true)\n",
      " |-- userAgent: string (nullable = true)\n",
      " |-- userId: string (nullable = true)\n",
      "\n"
     ]
    }
   ],
   "source": [
    "# Import the the dataset\n",
    "df = spark.read.json(\"mini_sparkify_event_data.json\")\n",
    "# Check the dataset first\n",
    "print(df.describe())\n",
    "\n",
    "# Do the count of our dataset\n",
    "\n",
    "print(\"The original dataset before any cleaning and transform actions:\", df.count())\n",
    "# Check their schema\n",
    "df.printSchema()"
   ]
  },
  {
   "cell_type": "markdown",
   "metadata": {},
   "source": [
    "Looking through the dataset, schema and the data types, we do not detect any unsual or abnormval at this stage. We will then process next stage, handle missing and invalid value in this dataset"
   ]
  },
  {
   "cell_type": "markdown",
   "metadata": {},
   "source": [
    "### Deal with Missing/ Invalid Values\n",
    "\n",
    "Any missing/invalid values such as missing the userids or sessionides will be dropped."
   ]
  },
  {
   "cell_type": "code",
   "execution_count": 4,
   "metadata": {},
   "outputs": [
    {
     "name": "stdout",
     "output_type": "stream",
     "text": [
      "The  dataset after the drop: 286500\n"
     ]
    }
   ],
   "source": [
    "# userid and/or sessionid if missing will then be dropped\n",
    "df = df.dropna(subset = [\"sessionId\", \"userId\"], how = 'any')\n",
    "\n",
    "# Check again the dataset \n",
    "print(\"The  dataset after the drop:\", df.count())\n"
   ]
  },
  {
   "cell_type": "markdown",
   "metadata": {},
   "source": [
    "Hmmm... The dataset still the same between the drop. Let's take further more action, and review it again"
   ]
  },
  {
   "cell_type": "code",
   "execution_count": 5,
   "metadata": {
    "scrolled": false
   },
   "outputs": [
    {
     "name": "stdout",
     "output_type": "stream",
     "text": [
      "+---------+------+\n",
      "|sessionId|userId|\n",
      "+---------+------+\n",
      "|        1|      |\n",
      "|        1|100001|\n",
      "|        1|     2|\n",
      "|        1|300001|\n",
      "|        2|200002|\n",
      "|        3|      |\n",
      "|        3|100003|\n",
      "|        3|300003|\n",
      "|        4|100004|\n",
      "|        5|      |\n",
      "|        5|100005|\n",
      "|        5|     6|\n",
      "|        6|      |\n",
      "|        6|100006|\n",
      "|        6|300006|\n",
      "|        7|200007|\n",
      "|        8|      |\n",
      "|        8|     9|\n",
      "|        9|      |\n",
      "|        9|    10|\n",
      "+---------+------+\n",
      "only showing top 20 rows\n",
      "\n"
     ]
    }
   ],
   "source": [
    "# Let's drop duplicates these ids, and sort by their values\n",
    "df.select([\"sessionId\",\"userId\"] ).dropDuplicates().sort([\"sessionId\",\"userId\"]).show()\n"
   ]
  },
  {
   "cell_type": "markdown",
   "metadata": {},
   "source": [
    "SessionID column are okay right now, but the userID have an empty string, which should be removed before we conduct EDA. Let's drop these emtry string out of our dataset from userID"
   ]
  },
  {
   "cell_type": "code",
   "execution_count": 6,
   "metadata": {
    "scrolled": false
   },
   "outputs": [
    {
     "name": "stdout",
     "output_type": "stream",
     "text": [
      "+------+\n",
      "|userId|\n",
      "+------+\n",
      "|    30|\n",
      "|     9|\n",
      "|    30|\n",
      "|     9|\n",
      "|    30|\n",
      "|     9|\n",
      "|     9|\n",
      "|    30|\n",
      "|    30|\n",
      "|    30|\n",
      "|     9|\n",
      "|     9|\n",
      "|    30|\n",
      "|     9|\n",
      "|     9|\n",
      "|    30|\n",
      "|     9|\n",
      "|    74|\n",
      "|    30|\n",
      "|     9|\n",
      "+------+\n",
      "only showing top 20 rows\n",
      "\n",
      "None\n",
      "278154\n"
     ]
    }
   ],
   "source": [
    "# Apply Filteration to remove emptry string to remove it\n",
    "df = df.filter(df[\"userId\"] != \"\")\n",
    "# Check the result and the number of records in our mini-dataset again\n",
    "print(df.select(\"userId\").show())\n",
    "print(df.count())"
   ]
  },
  {
   "cell_type": "markdown",
   "metadata": {},
   "source": [
    "After remove empty string from the userID, we are now only have **8346 rows** left. \n",
    "\n",
    "Let's convert to Pandas to condcut EDA with our pandas package for easier manipulation\n"
   ]
  },
  {
   "cell_type": "code",
   "execution_count": 7,
   "metadata": {},
   "outputs": [
    {
     "data": {
      "text/html": [
       "<div>\n",
       "<style scoped>\n",
       "    .dataframe tbody tr th:only-of-type {\n",
       "        vertical-align: middle;\n",
       "    }\n",
       "\n",
       "    .dataframe tbody tr th {\n",
       "        vertical-align: top;\n",
       "    }\n",
       "\n",
       "    .dataframe thead th {\n",
       "        text-align: right;\n",
       "    }\n",
       "</style>\n",
       "<table border=\"1\" class=\"dataframe\">\n",
       "  <thead>\n",
       "    <tr style=\"text-align: right;\">\n",
       "      <th></th>\n",
       "      <th>artist</th>\n",
       "      <th>auth</th>\n",
       "      <th>firstName</th>\n",
       "      <th>gender</th>\n",
       "      <th>itemInSession</th>\n",
       "      <th>lastName</th>\n",
       "      <th>length</th>\n",
       "      <th>level</th>\n",
       "      <th>location</th>\n",
       "      <th>method</th>\n",
       "      <th>page</th>\n",
       "      <th>registration</th>\n",
       "      <th>sessionId</th>\n",
       "      <th>song</th>\n",
       "      <th>status</th>\n",
       "      <th>ts</th>\n",
       "      <th>userAgent</th>\n",
       "      <th>userId</th>\n",
       "    </tr>\n",
       "  </thead>\n",
       "  <tbody>\n",
       "    <tr>\n",
       "      <th>0</th>\n",
       "      <td>Martha Tilston</td>\n",
       "      <td>Logged In</td>\n",
       "      <td>Colin</td>\n",
       "      <td>M</td>\n",
       "      <td>50</td>\n",
       "      <td>Freeman</td>\n",
       "      <td>277.89016</td>\n",
       "      <td>paid</td>\n",
       "      <td>Bakersfield, CA</td>\n",
       "      <td>PUT</td>\n",
       "      <td>NextSong</td>\n",
       "      <td>1538173362000</td>\n",
       "      <td>29</td>\n",
       "      <td>Rockpools</td>\n",
       "      <td>200</td>\n",
       "      <td>1538352117000</td>\n",
       "      <td>Mozilla/5.0 (Windows NT 6.1; WOW64; rv:31.0) G...</td>\n",
       "      <td>30</td>\n",
       "    </tr>\n",
       "    <tr>\n",
       "      <th>1</th>\n",
       "      <td>Five Iron Frenzy</td>\n",
       "      <td>Logged In</td>\n",
       "      <td>Micah</td>\n",
       "      <td>M</td>\n",
       "      <td>79</td>\n",
       "      <td>Long</td>\n",
       "      <td>236.09424</td>\n",
       "      <td>free</td>\n",
       "      <td>Boston-Cambridge-Newton, MA-NH</td>\n",
       "      <td>PUT</td>\n",
       "      <td>NextSong</td>\n",
       "      <td>1538331630000</td>\n",
       "      <td>8</td>\n",
       "      <td>Canada</td>\n",
       "      <td>200</td>\n",
       "      <td>1538352180000</td>\n",
       "      <td>\"Mozilla/5.0 (Windows NT 6.1; WOW64) AppleWebK...</td>\n",
       "      <td>9</td>\n",
       "    </tr>\n",
       "    <tr>\n",
       "      <th>2</th>\n",
       "      <td>Adam Lambert</td>\n",
       "      <td>Logged In</td>\n",
       "      <td>Colin</td>\n",
       "      <td>M</td>\n",
       "      <td>51</td>\n",
       "      <td>Freeman</td>\n",
       "      <td>282.82730</td>\n",
       "      <td>paid</td>\n",
       "      <td>Bakersfield, CA</td>\n",
       "      <td>PUT</td>\n",
       "      <td>NextSong</td>\n",
       "      <td>1538173362000</td>\n",
       "      <td>29</td>\n",
       "      <td>Time For Miracles</td>\n",
       "      <td>200</td>\n",
       "      <td>1538352394000</td>\n",
       "      <td>Mozilla/5.0 (Windows NT 6.1; WOW64; rv:31.0) G...</td>\n",
       "      <td>30</td>\n",
       "    </tr>\n",
       "    <tr>\n",
       "      <th>3</th>\n",
       "      <td>Enigma</td>\n",
       "      <td>Logged In</td>\n",
       "      <td>Micah</td>\n",
       "      <td>M</td>\n",
       "      <td>80</td>\n",
       "      <td>Long</td>\n",
       "      <td>262.71302</td>\n",
       "      <td>free</td>\n",
       "      <td>Boston-Cambridge-Newton, MA-NH</td>\n",
       "      <td>PUT</td>\n",
       "      <td>NextSong</td>\n",
       "      <td>1538331630000</td>\n",
       "      <td>8</td>\n",
       "      <td>Knocking On Forbidden Doors</td>\n",
       "      <td>200</td>\n",
       "      <td>1538352416000</td>\n",
       "      <td>\"Mozilla/5.0 (Windows NT 6.1; WOW64) AppleWebK...</td>\n",
       "      <td>9</td>\n",
       "    </tr>\n",
       "    <tr>\n",
       "      <th>4</th>\n",
       "      <td>Daft Punk</td>\n",
       "      <td>Logged In</td>\n",
       "      <td>Colin</td>\n",
       "      <td>M</td>\n",
       "      <td>52</td>\n",
       "      <td>Freeman</td>\n",
       "      <td>223.60771</td>\n",
       "      <td>paid</td>\n",
       "      <td>Bakersfield, CA</td>\n",
       "      <td>PUT</td>\n",
       "      <td>NextSong</td>\n",
       "      <td>1538173362000</td>\n",
       "      <td>29</td>\n",
       "      <td>Harder Better Faster Stronger</td>\n",
       "      <td>200</td>\n",
       "      <td>1538352676000</td>\n",
       "      <td>Mozilla/5.0 (Windows NT 6.1; WOW64; rv:31.0) G...</td>\n",
       "      <td>30</td>\n",
       "    </tr>\n",
       "    <tr>\n",
       "      <th>5</th>\n",
       "      <td>The All-American Rejects</td>\n",
       "      <td>Logged In</td>\n",
       "      <td>Micah</td>\n",
       "      <td>M</td>\n",
       "      <td>81</td>\n",
       "      <td>Long</td>\n",
       "      <td>208.29995</td>\n",
       "      <td>free</td>\n",
       "      <td>Boston-Cambridge-Newton, MA-NH</td>\n",
       "      <td>PUT</td>\n",
       "      <td>NextSong</td>\n",
       "      <td>1538331630000</td>\n",
       "      <td>8</td>\n",
       "      <td>Don't Leave Me</td>\n",
       "      <td>200</td>\n",
       "      <td>1538352678000</td>\n",
       "      <td>\"Mozilla/5.0 (Windows NT 6.1; WOW64) AppleWebK...</td>\n",
       "      <td>9</td>\n",
       "    </tr>\n",
       "    <tr>\n",
       "      <th>6</th>\n",
       "      <td>The Velvet Underground / Nico</td>\n",
       "      <td>Logged In</td>\n",
       "      <td>Micah</td>\n",
       "      <td>M</td>\n",
       "      <td>82</td>\n",
       "      <td>Long</td>\n",
       "      <td>260.46649</td>\n",
       "      <td>free</td>\n",
       "      <td>Boston-Cambridge-Newton, MA-NH</td>\n",
       "      <td>PUT</td>\n",
       "      <td>NextSong</td>\n",
       "      <td>1538331630000</td>\n",
       "      <td>8</td>\n",
       "      <td>Run Run Run</td>\n",
       "      <td>200</td>\n",
       "      <td>1538352886000</td>\n",
       "      <td>\"Mozilla/5.0 (Windows NT 6.1; WOW64) AppleWebK...</td>\n",
       "      <td>9</td>\n",
       "    </tr>\n",
       "    <tr>\n",
       "      <th>7</th>\n",
       "      <td>Starflyer 59</td>\n",
       "      <td>Logged In</td>\n",
       "      <td>Colin</td>\n",
       "      <td>M</td>\n",
       "      <td>53</td>\n",
       "      <td>Freeman</td>\n",
       "      <td>185.44281</td>\n",
       "      <td>paid</td>\n",
       "      <td>Bakersfield, CA</td>\n",
       "      <td>PUT</td>\n",
       "      <td>NextSong</td>\n",
       "      <td>1538173362000</td>\n",
       "      <td>29</td>\n",
       "      <td>Passengers (Old Album Version)</td>\n",
       "      <td>200</td>\n",
       "      <td>1538352899000</td>\n",
       "      <td>Mozilla/5.0 (Windows NT 6.1; WOW64; rv:31.0) G...</td>\n",
       "      <td>30</td>\n",
       "    </tr>\n",
       "    <tr>\n",
       "      <th>8</th>\n",
       "      <td>None</td>\n",
       "      <td>Logged In</td>\n",
       "      <td>Colin</td>\n",
       "      <td>M</td>\n",
       "      <td>54</td>\n",
       "      <td>Freeman</td>\n",
       "      <td>NaN</td>\n",
       "      <td>paid</td>\n",
       "      <td>Bakersfield, CA</td>\n",
       "      <td>PUT</td>\n",
       "      <td>Add to Playlist</td>\n",
       "      <td>1538173362000</td>\n",
       "      <td>29</td>\n",
       "      <td>None</td>\n",
       "      <td>200</td>\n",
       "      <td>1538352905000</td>\n",
       "      <td>Mozilla/5.0 (Windows NT 6.1; WOW64; rv:31.0) G...</td>\n",
       "      <td>30</td>\n",
       "    </tr>\n",
       "    <tr>\n",
       "      <th>9</th>\n",
       "      <td>Frumpies</td>\n",
       "      <td>Logged In</td>\n",
       "      <td>Colin</td>\n",
       "      <td>M</td>\n",
       "      <td>55</td>\n",
       "      <td>Freeman</td>\n",
       "      <td>134.47791</td>\n",
       "      <td>paid</td>\n",
       "      <td>Bakersfield, CA</td>\n",
       "      <td>PUT</td>\n",
       "      <td>NextSong</td>\n",
       "      <td>1538173362000</td>\n",
       "      <td>29</td>\n",
       "      <td>Fuck Kitty</td>\n",
       "      <td>200</td>\n",
       "      <td>1538353084000</td>\n",
       "      <td>Mozilla/5.0 (Windows NT 6.1; WOW64; rv:31.0) G...</td>\n",
       "      <td>30</td>\n",
       "    </tr>\n",
       "    <tr>\n",
       "      <th>10</th>\n",
       "      <td>Britt Nicole</td>\n",
       "      <td>Logged In</td>\n",
       "      <td>Micah</td>\n",
       "      <td>M</td>\n",
       "      <td>83</td>\n",
       "      <td>Long</td>\n",
       "      <td>229.87710</td>\n",
       "      <td>free</td>\n",
       "      <td>Boston-Cambridge-Newton, MA-NH</td>\n",
       "      <td>PUT</td>\n",
       "      <td>NextSong</td>\n",
       "      <td>1538331630000</td>\n",
       "      <td>8</td>\n",
       "      <td>Walk On The Water</td>\n",
       "      <td>200</td>\n",
       "      <td>1538353146000</td>\n",
       "      <td>\"Mozilla/5.0 (Windows NT 6.1; WOW64) AppleWebK...</td>\n",
       "      <td>9</td>\n",
       "    </tr>\n",
       "    <tr>\n",
       "      <th>11</th>\n",
       "      <td>None</td>\n",
       "      <td>Logged In</td>\n",
       "      <td>Micah</td>\n",
       "      <td>M</td>\n",
       "      <td>84</td>\n",
       "      <td>Long</td>\n",
       "      <td>NaN</td>\n",
       "      <td>free</td>\n",
       "      <td>Boston-Cambridge-Newton, MA-NH</td>\n",
       "      <td>GET</td>\n",
       "      <td>Roll Advert</td>\n",
       "      <td>1538331630000</td>\n",
       "      <td>8</td>\n",
       "      <td>None</td>\n",
       "      <td>200</td>\n",
       "      <td>1538353150000</td>\n",
       "      <td>\"Mozilla/5.0 (Windows NT 6.1; WOW64) AppleWebK...</td>\n",
       "      <td>9</td>\n",
       "    </tr>\n",
       "    <tr>\n",
       "      <th>12</th>\n",
       "      <td>Edward Sharpe &amp; The Magnetic Zeros</td>\n",
       "      <td>Logged In</td>\n",
       "      <td>Colin</td>\n",
       "      <td>M</td>\n",
       "      <td>56</td>\n",
       "      <td>Freeman</td>\n",
       "      <td>223.58159</td>\n",
       "      <td>paid</td>\n",
       "      <td>Bakersfield, CA</td>\n",
       "      <td>PUT</td>\n",
       "      <td>NextSong</td>\n",
       "      <td>1538173362000</td>\n",
       "      <td>29</td>\n",
       "      <td>Jade</td>\n",
       "      <td>200</td>\n",
       "      <td>1538353218000</td>\n",
       "      <td>Mozilla/5.0 (Windows NT 6.1; WOW64; rv:31.0) G...</td>\n",
       "      <td>30</td>\n",
       "    </tr>\n",
       "    <tr>\n",
       "      <th>13</th>\n",
       "      <td>Tesla</td>\n",
       "      <td>Logged In</td>\n",
       "      <td>Micah</td>\n",
       "      <td>M</td>\n",
       "      <td>85</td>\n",
       "      <td>Long</td>\n",
       "      <td>201.06404</td>\n",
       "      <td>free</td>\n",
       "      <td>Boston-Cambridge-Newton, MA-NH</td>\n",
       "      <td>PUT</td>\n",
       "      <td>NextSong</td>\n",
       "      <td>1538331630000</td>\n",
       "      <td>8</td>\n",
       "      <td>Gettin' Better</td>\n",
       "      <td>200</td>\n",
       "      <td>1538353375000</td>\n",
       "      <td>\"Mozilla/5.0 (Windows NT 6.1; WOW64) AppleWebK...</td>\n",
       "      <td>9</td>\n",
       "    </tr>\n",
       "    <tr>\n",
       "      <th>14</th>\n",
       "      <td>None</td>\n",
       "      <td>Logged In</td>\n",
       "      <td>Micah</td>\n",
       "      <td>M</td>\n",
       "      <td>86</td>\n",
       "      <td>Long</td>\n",
       "      <td>NaN</td>\n",
       "      <td>free</td>\n",
       "      <td>Boston-Cambridge-Newton, MA-NH</td>\n",
       "      <td>PUT</td>\n",
       "      <td>Thumbs Up</td>\n",
       "      <td>1538331630000</td>\n",
       "      <td>8</td>\n",
       "      <td>None</td>\n",
       "      <td>307</td>\n",
       "      <td>1538353376000</td>\n",
       "      <td>\"Mozilla/5.0 (Windows NT 6.1; WOW64) AppleWebK...</td>\n",
       "      <td>9</td>\n",
       "    </tr>\n",
       "    <tr>\n",
       "      <th>15</th>\n",
       "      <td>Stan Mosley</td>\n",
       "      <td>Logged In</td>\n",
       "      <td>Colin</td>\n",
       "      <td>M</td>\n",
       "      <td>57</td>\n",
       "      <td>Freeman</td>\n",
       "      <td>246.69995</td>\n",
       "      <td>paid</td>\n",
       "      <td>Bakersfield, CA</td>\n",
       "      <td>PUT</td>\n",
       "      <td>NextSong</td>\n",
       "      <td>1538173362000</td>\n",
       "      <td>29</td>\n",
       "      <td>So-Called Friends</td>\n",
       "      <td>200</td>\n",
       "      <td>1538353441000</td>\n",
       "      <td>Mozilla/5.0 (Windows NT 6.1; WOW64; rv:31.0) G...</td>\n",
       "      <td>30</td>\n",
       "    </tr>\n",
       "    <tr>\n",
       "      <th>16</th>\n",
       "      <td>Florence + The Machine</td>\n",
       "      <td>Logged In</td>\n",
       "      <td>Micah</td>\n",
       "      <td>M</td>\n",
       "      <td>87</td>\n",
       "      <td>Long</td>\n",
       "      <td>168.64608</td>\n",
       "      <td>free</td>\n",
       "      <td>Boston-Cambridge-Newton, MA-NH</td>\n",
       "      <td>PUT</td>\n",
       "      <td>NextSong</td>\n",
       "      <td>1538331630000</td>\n",
       "      <td>8</td>\n",
       "      <td>You've Got The Love</td>\n",
       "      <td>200</td>\n",
       "      <td>1538353576000</td>\n",
       "      <td>\"Mozilla/5.0 (Windows NT 6.1; WOW64) AppleWebK...</td>\n",
       "      <td>9</td>\n",
       "    </tr>\n",
       "    <tr>\n",
       "      <th>17</th>\n",
       "      <td>Tokyo Police Club</td>\n",
       "      <td>Logged In</td>\n",
       "      <td>Ashlynn</td>\n",
       "      <td>F</td>\n",
       "      <td>0</td>\n",
       "      <td>Williams</td>\n",
       "      <td>166.11220</td>\n",
       "      <td>free</td>\n",
       "      <td>Tallahassee, FL</td>\n",
       "      <td>PUT</td>\n",
       "      <td>NextSong</td>\n",
       "      <td>1537365219000</td>\n",
       "      <td>217</td>\n",
       "      <td>Citizens Of Tomorrow</td>\n",
       "      <td>200</td>\n",
       "      <td>1538353668000</td>\n",
       "      <td>\"Mozilla/5.0 (Macintosh; Intel Mac OS X 10_9_4...</td>\n",
       "      <td>74</td>\n",
       "    </tr>\n",
       "    <tr>\n",
       "      <th>18</th>\n",
       "      <td>Orishas</td>\n",
       "      <td>Logged In</td>\n",
       "      <td>Colin</td>\n",
       "      <td>M</td>\n",
       "      <td>58</td>\n",
       "      <td>Freeman</td>\n",
       "      <td>222.22322</td>\n",
       "      <td>paid</td>\n",
       "      <td>Bakersfield, CA</td>\n",
       "      <td>PUT</td>\n",
       "      <td>NextSong</td>\n",
       "      <td>1538173362000</td>\n",
       "      <td>29</td>\n",
       "      <td>Represent</td>\n",
       "      <td>200</td>\n",
       "      <td>1538353687000</td>\n",
       "      <td>Mozilla/5.0 (Windows NT 6.1; WOW64; rv:31.0) G...</td>\n",
       "      <td>30</td>\n",
       "    </tr>\n",
       "    <tr>\n",
       "      <th>19</th>\n",
       "      <td>Ratatat</td>\n",
       "      <td>Logged In</td>\n",
       "      <td>Micah</td>\n",
       "      <td>M</td>\n",
       "      <td>88</td>\n",
       "      <td>Long</td>\n",
       "      <td>229.77261</td>\n",
       "      <td>free</td>\n",
       "      <td>Boston-Cambridge-Newton, MA-NH</td>\n",
       "      <td>PUT</td>\n",
       "      <td>NextSong</td>\n",
       "      <td>1538331630000</td>\n",
       "      <td>8</td>\n",
       "      <td>Swisha</td>\n",
       "      <td>200</td>\n",
       "      <td>1538353744000</td>\n",
       "      <td>\"Mozilla/5.0 (Windows NT 6.1; WOW64) AppleWebK...</td>\n",
       "      <td>9</td>\n",
       "    </tr>\n",
       "  </tbody>\n",
       "</table>\n",
       "</div>"
      ],
      "text/plain": [
       "                                artist       auth firstName gender  \\\n",
       "0                       Martha Tilston  Logged In     Colin      M   \n",
       "1                     Five Iron Frenzy  Logged In     Micah      M   \n",
       "2                         Adam Lambert  Logged In     Colin      M   \n",
       "3                               Enigma  Logged In     Micah      M   \n",
       "4                            Daft Punk  Logged In     Colin      M   \n",
       "5             The All-American Rejects  Logged In     Micah      M   \n",
       "6        The Velvet Underground / Nico  Logged In     Micah      M   \n",
       "7                         Starflyer 59  Logged In     Colin      M   \n",
       "8                                 None  Logged In     Colin      M   \n",
       "9                             Frumpies  Logged In     Colin      M   \n",
       "10                        Britt Nicole  Logged In     Micah      M   \n",
       "11                                None  Logged In     Micah      M   \n",
       "12  Edward Sharpe & The Magnetic Zeros  Logged In     Colin      M   \n",
       "13                               Tesla  Logged In     Micah      M   \n",
       "14                                None  Logged In     Micah      M   \n",
       "15                         Stan Mosley  Logged In     Colin      M   \n",
       "16              Florence + The Machine  Logged In     Micah      M   \n",
       "17                   Tokyo Police Club  Logged In   Ashlynn      F   \n",
       "18                             Orishas  Logged In     Colin      M   \n",
       "19                             Ratatat  Logged In     Micah      M   \n",
       "\n",
       "    itemInSession  lastName     length level                        location  \\\n",
       "0              50   Freeman  277.89016  paid                 Bakersfield, CA   \n",
       "1              79      Long  236.09424  free  Boston-Cambridge-Newton, MA-NH   \n",
       "2              51   Freeman  282.82730  paid                 Bakersfield, CA   \n",
       "3              80      Long  262.71302  free  Boston-Cambridge-Newton, MA-NH   \n",
       "4              52   Freeman  223.60771  paid                 Bakersfield, CA   \n",
       "5              81      Long  208.29995  free  Boston-Cambridge-Newton, MA-NH   \n",
       "6              82      Long  260.46649  free  Boston-Cambridge-Newton, MA-NH   \n",
       "7              53   Freeman  185.44281  paid                 Bakersfield, CA   \n",
       "8              54   Freeman        NaN  paid                 Bakersfield, CA   \n",
       "9              55   Freeman  134.47791  paid                 Bakersfield, CA   \n",
       "10             83      Long  229.87710  free  Boston-Cambridge-Newton, MA-NH   \n",
       "11             84      Long        NaN  free  Boston-Cambridge-Newton, MA-NH   \n",
       "12             56   Freeman  223.58159  paid                 Bakersfield, CA   \n",
       "13             85      Long  201.06404  free  Boston-Cambridge-Newton, MA-NH   \n",
       "14             86      Long        NaN  free  Boston-Cambridge-Newton, MA-NH   \n",
       "15             57   Freeman  246.69995  paid                 Bakersfield, CA   \n",
       "16             87      Long  168.64608  free  Boston-Cambridge-Newton, MA-NH   \n",
       "17              0  Williams  166.11220  free                 Tallahassee, FL   \n",
       "18             58   Freeman  222.22322  paid                 Bakersfield, CA   \n",
       "19             88      Long  229.77261  free  Boston-Cambridge-Newton, MA-NH   \n",
       "\n",
       "   method             page   registration  sessionId  \\\n",
       "0     PUT         NextSong  1538173362000         29   \n",
       "1     PUT         NextSong  1538331630000          8   \n",
       "2     PUT         NextSong  1538173362000         29   \n",
       "3     PUT         NextSong  1538331630000          8   \n",
       "4     PUT         NextSong  1538173362000         29   \n",
       "5     PUT         NextSong  1538331630000          8   \n",
       "6     PUT         NextSong  1538331630000          8   \n",
       "7     PUT         NextSong  1538173362000         29   \n",
       "8     PUT  Add to Playlist  1538173362000         29   \n",
       "9     PUT         NextSong  1538173362000         29   \n",
       "10    PUT         NextSong  1538331630000          8   \n",
       "11    GET      Roll Advert  1538331630000          8   \n",
       "12    PUT         NextSong  1538173362000         29   \n",
       "13    PUT         NextSong  1538331630000          8   \n",
       "14    PUT        Thumbs Up  1538331630000          8   \n",
       "15    PUT         NextSong  1538173362000         29   \n",
       "16    PUT         NextSong  1538331630000          8   \n",
       "17    PUT         NextSong  1537365219000        217   \n",
       "18    PUT         NextSong  1538173362000         29   \n",
       "19    PUT         NextSong  1538331630000          8   \n",
       "\n",
       "                              song  status             ts  \\\n",
       "0                        Rockpools     200  1538352117000   \n",
       "1                           Canada     200  1538352180000   \n",
       "2                Time For Miracles     200  1538352394000   \n",
       "3      Knocking On Forbidden Doors     200  1538352416000   \n",
       "4    Harder Better Faster Stronger     200  1538352676000   \n",
       "5                   Don't Leave Me     200  1538352678000   \n",
       "6                      Run Run Run     200  1538352886000   \n",
       "7   Passengers (Old Album Version)     200  1538352899000   \n",
       "8                             None     200  1538352905000   \n",
       "9                       Fuck Kitty     200  1538353084000   \n",
       "10               Walk On The Water     200  1538353146000   \n",
       "11                            None     200  1538353150000   \n",
       "12                            Jade     200  1538353218000   \n",
       "13                  Gettin' Better     200  1538353375000   \n",
       "14                            None     307  1538353376000   \n",
       "15               So-Called Friends     200  1538353441000   \n",
       "16             You've Got The Love     200  1538353576000   \n",
       "17            Citizens Of Tomorrow     200  1538353668000   \n",
       "18                       Represent     200  1538353687000   \n",
       "19                          Swisha     200  1538353744000   \n",
       "\n",
       "                                            userAgent userId  \n",
       "0   Mozilla/5.0 (Windows NT 6.1; WOW64; rv:31.0) G...     30  \n",
       "1   \"Mozilla/5.0 (Windows NT 6.1; WOW64) AppleWebK...      9  \n",
       "2   Mozilla/5.0 (Windows NT 6.1; WOW64; rv:31.0) G...     30  \n",
       "3   \"Mozilla/5.0 (Windows NT 6.1; WOW64) AppleWebK...      9  \n",
       "4   Mozilla/5.0 (Windows NT 6.1; WOW64; rv:31.0) G...     30  \n",
       "5   \"Mozilla/5.0 (Windows NT 6.1; WOW64) AppleWebK...      9  \n",
       "6   \"Mozilla/5.0 (Windows NT 6.1; WOW64) AppleWebK...      9  \n",
       "7   Mozilla/5.0 (Windows NT 6.1; WOW64; rv:31.0) G...     30  \n",
       "8   Mozilla/5.0 (Windows NT 6.1; WOW64; rv:31.0) G...     30  \n",
       "9   Mozilla/5.0 (Windows NT 6.1; WOW64; rv:31.0) G...     30  \n",
       "10  \"Mozilla/5.0 (Windows NT 6.1; WOW64) AppleWebK...      9  \n",
       "11  \"Mozilla/5.0 (Windows NT 6.1; WOW64) AppleWebK...      9  \n",
       "12  Mozilla/5.0 (Windows NT 6.1; WOW64; rv:31.0) G...     30  \n",
       "13  \"Mozilla/5.0 (Windows NT 6.1; WOW64) AppleWebK...      9  \n",
       "14  \"Mozilla/5.0 (Windows NT 6.1; WOW64) AppleWebK...      9  \n",
       "15  Mozilla/5.0 (Windows NT 6.1; WOW64; rv:31.0) G...     30  \n",
       "16  \"Mozilla/5.0 (Windows NT 6.1; WOW64) AppleWebK...      9  \n",
       "17  \"Mozilla/5.0 (Macintosh; Intel Mac OS X 10_9_4...     74  \n",
       "18  Mozilla/5.0 (Windows NT 6.1; WOW64; rv:31.0) G...     30  \n",
       "19  \"Mozilla/5.0 (Windows NT 6.1; WOW64) AppleWebK...      9  "
      ]
     },
     "execution_count": 7,
     "metadata": {},
     "output_type": "execute_result"
    }
   ],
   "source": [
    "df_pandas = df.toPandas()\n",
    "df_pandas.head(n=20)"
   ]
  },
  {
   "cell_type": "markdown",
   "metadata": {},
   "source": [
    "# Exploratory Data Analysis\n",
    "\n",
    "\n",
    "\n",
    "### Define Churn\n",
    "\n",
    "We will create a column called `Churn` to reserve as the label for our model. Churn is defined by 'Cancellation Confirmation' events, which occur for both paid and free users. We will assign `1` if a user has churned and a `0` if they have not.\n",
    "\n",
    "### Explore Data\n",
    "Exploratory data analysis will be conducted to monitor the behavior of users who are stayed versus users who are churned. \n",
    "Firstly, we will explore the how much of a specific action they experienced per a certain time unit or number of songs played between these two groups of users\n"
   ]
  },
  {
   "cell_type": "markdown",
   "metadata": {},
   "source": [
    "### Find Users who have churned\n",
    "First, using  `Cancellation Confirmation` to identify and flag these users who have churned under the `page` column."
   ]
  },
  {
   "cell_type": "code",
   "execution_count": 8,
   "metadata": {},
   "outputs": [
    {
     "name": "stdout",
     "output_type": "stream",
     "text": [
      "+--------------------+\n",
      "|                page|\n",
      "+--------------------+\n",
      "|              Cancel|\n",
      "|    Submit Downgrade|\n",
      "|         Thumbs Down|\n",
      "|                Home|\n",
      "|           Downgrade|\n",
      "|         Roll Advert|\n",
      "|              Logout|\n",
      "|       Save Settings|\n",
      "|Cancellation Conf...|\n",
      "|               About|\n",
      "|            Settings|\n",
      "|     Add to Playlist|\n",
      "|          Add Friend|\n",
      "|            NextSong|\n",
      "|           Thumbs Up|\n",
      "|                Help|\n",
      "|             Upgrade|\n",
      "|               Error|\n",
      "|      Submit Upgrade|\n",
      "+--------------------+\n",
      "\n"
     ]
    }
   ],
   "source": [
    "# Select `Page` to find about the Cancellation Confirmation information\n",
    "# This will show all even the duplicate\n",
    "#df.select(\"page\").show()\n",
    "# This only show the unique value not the duplicate\n",
    "df.select(\"page\").dropDuplicates().show()"
   ]
  },
  {
   "cell_type": "markdown",
   "metadata": {},
   "source": [
    "In this page, the need to filter out the \"Cancellation Confirmation\". Let's add into our filteration in this page with the groupby on UserId and Page to filter out to summarize how many number of this event in our dataset"
   ]
  },
  {
   "cell_type": "code",
   "execution_count": 9,
   "metadata": {},
   "outputs": [
    {
     "name": "stdout",
     "output_type": "stream",
     "text": [
      "+------+--------------------+\n",
      "|userId|                page|\n",
      "+------+--------------------+\n",
      "|    18|Cancellation Conf...|\n",
      "|    32|Cancellation Conf...|\n",
      "|   125|Cancellation Conf...|\n",
      "|   105|Cancellation Conf...|\n",
      "|    17|Cancellation Conf...|\n",
      "|   143|Cancellation Conf...|\n",
      "|   101|Cancellation Conf...|\n",
      "|   129|Cancellation Conf...|\n",
      "|   121|Cancellation Conf...|\n",
      "|    51|Cancellation Conf...|\n",
      "|    87|Cancellation Conf...|\n",
      "|   122|Cancellation Conf...|\n",
      "|    12|Cancellation Conf...|\n",
      "|    58|Cancellation Conf...|\n",
      "|    73|Cancellation Conf...|\n",
      "|     3|Cancellation Conf...|\n",
      "|   106|Cancellation Conf...|\n",
      "|   103|Cancellation Conf...|\n",
      "|    28|Cancellation Conf...|\n",
      "|    54|Cancellation Conf...|\n",
      "+------+--------------------+\n",
      "only showing top 20 rows\n",
      "\n"
     ]
    }
   ],
   "source": [
    "# show \n",
    "df.select([\"userId\", \"page\"]).where(df.page == \"Cancellation Confirmation\").show()"
   ]
  },
  {
   "cell_type": "code",
   "execution_count": 10,
   "metadata": {},
   "outputs": [
    {
     "data": {
      "text/plain": [
       "52"
      ]
     },
     "execution_count": 10,
     "metadata": {},
     "output_type": "execute_result"
    }
   ],
   "source": [
    "# number of users who churned\n",
    "df.select([\"userId\", \"page\"]).where(df.page == \"Cancellation Confirmation\").count()"
   ]
  },
  {
   "cell_type": "markdown",
   "metadata": {},
   "source": [
    "With 52 records equal as 52 users in our dataset have did the churn. For the next step, we will flag these users that have churned. For the flagging, we will assign value 1 if churned, and 0 if not. After that, a name column to inform this flag will be named as \"Churn_Check\""
   ]
  },
  {
   "cell_type": "code",
   "execution_count": 11,
   "metadata": {},
   "outputs": [],
   "source": [
    "# Let's wrap the function with udf for reusable function and apply lambda to do multiple values in the dataset\n",
    "## Check this page for further informationa bout udf function in pyspark\n",
    "### https://sparkbyexamples.com/pyspark/pyspark-udf-user-defined-function/\n",
    "# Flage the value =1 if Page has Cancellation Confirmation, and value =0 if page does not have \n",
    "flag_churn_event = udf(lambda x: 1 if x == \"Cancellation Confirmation\" else 0, IntegerType())"
   ]
  },
  {
   "cell_type": "code",
   "execution_count": 12,
   "metadata": {},
   "outputs": [
    {
     "name": "stdout",
     "output_type": "stream",
     "text": [
      "+-----+\n",
      "|churn|\n",
      "+-----+\n",
      "|    1|\n",
      "|    0|\n",
      "+-----+\n",
      "\n"
     ]
    }
   ],
   "source": [
    "# Create new column for our churn event, with our defined function `flag_churn_event`\n",
    "df = df.withColumn(\"churn\", flag_churn_event(\"page\"))\n",
    "# Check the result\n",
    "df.select(\"churn\").dropDuplicates().show()"
   ]
  },
  {
   "cell_type": "markdown",
   "metadata": {},
   "source": [
    "The churn column was successfully added to the df. 0 and 1 have been assigned to specific userId. Let's sort our userId's value in reverse time order and the total of the churn values."
   ]
  },
  {
   "cell_type": "code",
   "execution_count": 13,
   "metadata": {
    "scrolled": true
   },
   "outputs": [
    {
     "name": "stdout",
     "output_type": "stream",
     "text": [
      "+-----+-----+\n",
      "|churn|count|\n",
      "+-----+-----+\n",
      "|    0|  173|\n",
      "|    1|   52|\n",
      "+-----+-----+\n",
      "\n"
     ]
    }
   ],
   "source": [
    "# sort records for a userIds in reverse time order\n",
    "## For this sorting, check the article from stackoverflow for the solution with pyspark\n",
    "### https://stackoverflow.com/questions/35247168/spark-sql-row-number-partitionby-sort-desc\n",
    "windowval = Window.partitionBy(\"userId\").orderBy(desc(\"ts\")).rangeBetween(Window.unboundedPreceding, 0)\n",
    "\n",
    "# create column churn, which is cucumulative sum per group by \"churn\" group using in pyspark\n",
    "## Check this article for solution \n",
    "### https://stackoverflow.com/questions/45946349/python-spark-cumulative-sum-by-group-using-dataframe\n",
    "df = df.withColumn(\"churn\", Fsum(\"churn\").over(windowval))\n",
    "\n",
    "# groupby churn, and we can correctly get the count \n",
    "\n",
    "churn_df = df.select(['userId', 'churn']).dropDuplicates().groupBy('churn').count()\n",
    "\n",
    "# Check the result\n",
    "churn_df.show()"
   ]
  },
  {
   "cell_type": "markdown",
   "metadata": {},
   "source": [
    "We have successfully created new column \"count\", which used to count the total of 0 and 1 in churn columns grouped by \"churn\" column. We can process to the EDA next part. "
   ]
  },
  {
   "cell_type": "markdown",
   "metadata": {},
   "source": [
    "### Exploratory Data Analysis for our Users between Stay and Churned\n",
    "\n",
    "Before building our models, we need to seperate into two parts:\n",
    "Numerical and Categorical, and we need to find which aspects impact the decision of stay or churns for our users.\n",
    "\n",
    "There are few things I could think of like:\n",
    "\n",
    "- Categorical:\n",
    "    - Gender \n",
    "    - Membership (Free versus Paid)\n",
    "- Numerical: \n",
    "    - Song Impacts:\n",
    "        - number of songs per session\n",
    "        - number of songs added to playlist\n",
    "    - Like/Dislike Action\n",
    "        - number of thumb down actions \n",
    "        - number of thumb up actions\n",
    "    - Friend\n",
    "        - number of friends added \n",
    "    - Artists Influence:\n",
    "        - number of different artists listened to on Sparkify \n",
    "    - Retention:\n",
    "        - number of days since registering \n",
    "\n"
   ]
  },
  {
   "cell_type": "markdown",
   "metadata": {},
   "source": [
    "Firstly, Let's do the Numerical first\n",
    "Let's visualize for easier to see the big picture about the behavior of our users, who did the churn and who decide to stay with the business'service. "
   ]
  },
  {
   "cell_type": "code",
   "execution_count": 14,
   "metadata": {},
   "outputs": [],
   "source": [
    "# check our result \n",
    "#df_churn.show()\n",
    "### https://stackoverflow.com/questions/58188072/from-spark-dataframe-to-pandas-dataframe\n",
    "### Do not use .show() otherwise the conversion will cause errors\n",
    "churn_df = churn_df.toPandas()"
   ]
  },
  {
   "cell_type": "code",
   "execution_count": 15,
   "metadata": {
    "scrolled": true
   },
   "outputs": [
    {
     "data": {
      "image/png": "[encoded data removed]",
      "text/plain": [
       "<matplotlib.figure.Figure at 0x7f1274429908>"
      ]
     },
     "metadata": {
      "needs_background": "light"
     },
     "output_type": "display_data"
    }
   ],
   "source": [
    "# Visualisation with our Matplotlib package\n",
    "# Visualization with seaborn barplot to compare\n",
    "plt.figure(figsize = [10,10])\n",
    "ax = sns.barplot(data = churn_df, x = 'churn', y='count')\n",
    "plt.title(\"Numbers of Users That Churned\")\n",
    "plt.xlabel(\"Churns and Stayed\");\n",
    "plt.ylabel(\"Total Number\");\n",
    "plt.show()"
   ]
  },
  {
   "cell_type": "code",
   "execution_count": 16,
   "metadata": {
    "scrolled": true
   },
   "outputs": [
    {
     "name": "stdout",
     "output_type": "stream",
     "text": [
      "The churn rate is: 23.11111111111111\n"
     ]
    }
   ],
   "source": [
    "rate_df = 52/(173+52) * 100\n",
    "print(\"The churn rate is:\", rate_df)"
   ]
  },
  {
   "cell_type": "markdown",
   "metadata": {},
   "source": [
    "From the figure above, we can cleary see that there are 173 users decided to stay with our business compared to 52 decided to do the churn with the rate of 23% of our users churned. \n",
    "\n"
   ]
  },
  {
   "cell_type": "markdown",
   "metadata": {},
   "source": [
    "### Pages Visited by Those that Churned vs. Those That Stayed\n",
    "\n",
    "From the Page category, there are differen categories, which users probably perform before making their churn or stay decision. Let's do the comparision\n"
   ]
  },
  {
   "cell_type": "code",
   "execution_count": 17,
   "metadata": {
    "scrolled": true
   },
   "outputs": [
    {
     "name": "stdout",
     "output_type": "stream",
     "text": [
      "+---------------+-----+-----+\n",
      "|           page|churn|count|\n",
      "+---------------+-----+-----+\n",
      "|       NextSong|    1|36394|\n",
      "|      Thumbs Up|    1| 1859|\n",
      "|           Home|    1| 1672|\n",
      "|Add to Playlist|    1| 1038|\n",
      "|    Roll Advert|    1|  967|\n",
      "|     Add Friend|    1|  636|\n",
      "|         Logout|    1|  553|\n",
      "|    Thumbs Down|    1|  496|\n",
      "|      Downgrade|    1|  337|\n",
      "|       Settings|    1|  270|\n",
      "+---------------+-----+-----+\n",
      "only showing top 10 rows\n",
      "\n"
     ]
    }
   ],
   "source": [
    "# Import the dataset, groupby Page and churn with the count to count their frequency \n",
    "page_df = df.select(['userId', 'churn', 'page']).groupBy('page','churn').count().sort([\"churn\",\"count\"], ascending = False)\n",
    "# Check the result\n",
    "page_df.show(10)"
   ]
  },
  {
   "cell_type": "code",
   "execution_count": 18,
   "metadata": {},
   "outputs": [
    {
     "data": {
      "text/plain": [
       "[Row(page='NextSong', churn=1, count=36394),\n",
       " Row(page='Thumbs Up', churn=1, count=1859),\n",
       " Row(page='Home', churn=1, count=1672),\n",
       " Row(page='Add to Playlist', churn=1, count=1038),\n",
       " Row(page='Roll Advert', churn=1, count=967),\n",
       " Row(page='Add Friend', churn=1, count=636),\n",
       " Row(page='Logout', churn=1, count=553),\n",
       " Row(page='Thumbs Down', churn=1, count=496),\n",
       " Row(page='Downgrade', churn=1, count=337),\n",
       " Row(page='Settings', churn=1, count=270),\n",
       " Row(page='Help', churn=1, count=239),\n",
       " Row(page='Upgrade', churn=1, count=112),\n",
       " Row(page='Save Settings', churn=1, count=58),\n",
       " Row(page='About', churn=1, count=56),\n",
       " Row(page='Cancel', churn=1, count=52),\n",
       " Row(page='Cancellation Confirmation', churn=1, count=52),\n",
       " Row(page='Error', churn=1, count=32),\n",
       " Row(page='Submit Upgrade', churn=1, count=32),\n",
       " Row(page='Submit Downgrade', churn=1, count=9),\n",
       " Row(page='NextSong', churn=0, count=191714)]"
      ]
     },
     "execution_count": 18,
     "metadata": {},
     "output_type": "execute_result"
    }
   ],
   "source": [
    "# convert to pandas\n",
    "page_pd = page_df.toPandas()\n",
    "# Let's split out users who churned and those who stayed in seperate df\n",
    "churn_df_count =  page_pd[page_pd['churn'] == 1].sum() \n",
    "stay_df_count =  page_pd[page_pd['churn'] == 0].sum()\n",
    "# Calculate the rate of pages, these people visited before making churn or stay decisions\n",
    "# Use the total count / each seperate count \n",
    "page_pd['rate'] = np.where(page_pd['churn'] == 0, page_pd['count']/stay_df_count['count'], \n",
    "                  np.where(page_pd['churn'] == 1, page_pd['count']/churn_df_count['count'],\n",
    "                page_pd['count']/page_pd['count'])) \n",
    "\n",
    "# Check the Result\n",
    "\n",
    "page_df.head(20)"
   ]
  },
  {
   "cell_type": "code",
   "execution_count": 19,
   "metadata": {
    "scrolled": true
   },
   "outputs": [
    {
     "data": {
      "image/png": "[encoded data removed]",
      "text/plain": [
       "<matplotlib.figure.Figure at 0x7f12827f5080>"
      ]
     },
     "metadata": {
      "needs_background": "light"
     },
     "output_type": "display_data"
    }
   ],
   "source": [
    "# plot the pages by churn\n",
    "plt.figure(figsize=[20,20])\n",
    "sns.barplot(data = page_pd, x = 'rate', y = 'page', hue = 'churn')\n",
    "plt.title('Rate of Pages Navigated to by Users that Churned vs. Users that Stayed');\n",
    "plt.xlabel('Rate of Pages');\n",
    "plt.ylabel (\"Page Categories\")\n",
    "plt.show()"
   ]
  },
  {
   "cell_type": "markdown",
   "metadata": {},
   "source": [
    "According to the above chart, the most popular action for both users who stayed and those who left was to skip to the next song. We can also see that churned users are more likely to roll the ad and thumbs down songs. Those who were more likely to stay did more thumbs up, added friends, and added songs to their playlist."
   ]
  },
  {
   "cell_type": "markdown",
   "metadata": {},
   "source": [
    "Songs seem is one of the reasons users decide to stay or churn. Let's break down this category to find down more about song impact. How many hours do users listen between users decide to churn and users decide to stay. "
   ]
  },
  {
   "cell_type": "markdown",
   "metadata": {},
   "source": [
    "### Songs Per Hour"
   ]
  },
  {
   "cell_type": "markdown",
   "metadata": {},
   "source": [
    "Let's calculate the number of songs listened to per hour by both churn and non-churn users."
   ]
  },
  {
   "cell_type": "code",
   "execution_count": 20,
   "metadata": {
    "scrolled": true
   },
   "outputs": [
    {
     "data": {
      "text/plain": [
       "[Row(artist=None, auth='Logged In', firstName='Darianna', gender='F', itemInSession=34, lastName='Carpenter', length=None, level='free', location='Bridgeport-Stamford-Norwalk, CT', method='PUT', page='Logout', registration=1538016340000, sessionId=187, song=None, status=307, ts=1542823952000, userAgent='\"Mozilla/5.0 (iPhone; CPU iPhone OS 7_1_2 like Mac OS X) AppleWebKit/537.51.2 (KHTML, like Gecko) Version/7.0 Mobile/11D257 Safari/9537.53\"', userId='100010', churn=0, hour='18'),\n",
       " Row(artist='Lily Allen', auth='Logged In', firstName='Darianna', gender='F', itemInSession=33, lastName='Carpenter', length=185.25995, level='free', location='Bridgeport-Stamford-Norwalk, CT', method='PUT', page='NextSong', registration=1538016340000, sessionId=187, song='22', status=200, ts=1542823951000, userAgent='\"Mozilla/5.0 (iPhone; CPU iPhone OS 7_1_2 like Mac OS X) AppleWebKit/537.51.2 (KHTML, like Gecko) Version/7.0 Mobile/11D257 Safari/9537.53\"', userId='100010', churn=0, hour='18'),\n",
       " Row(artist='John Waite', auth='Logged In', firstName='Darianna', gender='F', itemInSession=32, lastName='Carpenter', length=269.76608, level='free', location='Bridgeport-Stamford-Norwalk, CT', method='PUT', page='NextSong', registration=1538016340000, sessionId=187, song='Missing You', status=200, ts=1542823682000, userAgent='\"Mozilla/5.0 (iPhone; CPU iPhone OS 7_1_2 like Mac OS X) AppleWebKit/537.51.2 (KHTML, like Gecko) Version/7.0 Mobile/11D257 Safari/9537.53\"', userId='100010', churn=0, hour='18'),\n",
       " Row(artist='Hermano', auth='Logged In', firstName='Darianna', gender='F', itemInSession=31, lastName='Carpenter', length=115.90485, level='free', location='Bridgeport-Stamford-Norwalk, CT', method='PUT', page='NextSong', registration=1538016340000, sessionId=187, song='Letters From Madrid', status=200, ts=1542823567000, userAgent='\"Mozilla/5.0 (iPhone; CPU iPhone OS 7_1_2 like Mac OS X) AppleWebKit/537.51.2 (KHTML, like Gecko) Version/7.0 Mobile/11D257 Safari/9537.53\"', userId='100010', churn=0, hour='18'),\n",
       " Row(artist=None, auth='Logged In', firstName='Darianna', gender='F', itemInSession=30, lastName='Carpenter', length=None, level='free', location='Bridgeport-Stamford-Norwalk, CT', method='GET', page='Roll Advert', registration=1538016340000, sessionId=187, song=None, status=200, ts=1542823257000, userAgent='\"Mozilla/5.0 (iPhone; CPU iPhone OS 7_1_2 like Mac OS X) AppleWebKit/537.51.2 (KHTML, like Gecko) Version/7.0 Mobile/11D257 Safari/9537.53\"', userId='100010', churn=0, hour='18')]"
      ]
     },
     "execution_count": 20,
     "metadata": {},
     "output_type": "execute_result"
    }
   ],
   "source": [
    "# Transform timestamp and get the hour after conversion\n",
    "## Create a function to re-usable with pyspark\n",
    "hour_df = udf(lambda x: datetime.datetime.fromtimestamp(x / 1000.0). hour)\n",
    "\n",
    "# create column named \"hour\"\n",
    "df = df.withColumn(\"hour\", hour_df(df.ts))\n",
    "# Check result \n",
    "df.head(5)"
   ]
  },
  {
   "cell_type": "markdown",
   "metadata": {},
   "source": [
    "Let's compare the difference between these churn and non-churn users and their relationship with the hours of song have been played"
   ]
  },
  {
   "cell_type": "code",
   "execution_count": 21,
   "metadata": {},
   "outputs": [],
   "source": [
    "# create a df with those who didnt churn and which counts when user goes to next song page\n",
    "hour_stay_song_df = df.filter((df.page == \"NextSong\") & (df.churn == 0)).groupby(df.hour).count().orderBy(df.hour.cast(\"float\"))\n",
    "\n",
    "\n",
    "# dataframe with customers who churned and count next song page \n",
    "hour_churned_song_df = df.filter((df.page == \"NextSong\") & (df.churn == 1)).groupby(df.hour).count().orderBy(df.hour.cast(\"float\"))"
   ]
  },
  {
   "cell_type": "code",
   "execution_count": 22,
   "metadata": {},
   "outputs": [
    {
     "name": "stdout",
     "output_type": "stream",
     "text": [
      "+----+-----+\n",
      "|hour|count|\n",
      "+----+-----+\n",
      "|   0| 1535|\n",
      "|   1| 1353|\n",
      "|   2| 1322|\n",
      "|   3| 1292|\n",
      "|   4| 1233|\n",
      "|   5| 1218|\n",
      "|   6| 1218|\n",
      "|   7| 1218|\n",
      "|   8| 1230|\n",
      "|   9| 1230|\n",
      "|  10| 1380|\n",
      "|  11| 1390|\n",
      "|  12| 1408|\n",
      "|  13| 1571|\n",
      "|  14| 1702|\n",
      "|  15| 1892|\n",
      "|  16| 1915|\n",
      "|  17| 1996|\n",
      "|  18| 1978|\n",
      "|  19| 1818|\n",
      "+----+-----+\n",
      "only showing top 20 rows\n",
      "\n",
      "None\n",
      "+----+-----+\n",
      "|hour|count|\n",
      "+----+-----+\n",
      "|   0| 7527|\n",
      "|   1| 7035|\n",
      "|   2| 7014|\n",
      "|   3| 7063|\n",
      "|   4| 6914|\n",
      "|   5| 6960|\n",
      "|   6| 6836|\n",
      "|   7| 6873|\n",
      "|   8| 7023|\n",
      "|   9| 7268|\n",
      "|  10| 7502|\n",
      "|  11| 7440|\n",
      "|  12| 7918|\n",
      "|  13| 8073|\n",
      "|  14| 8792|\n",
      "|  15| 9462|\n",
      "|  16| 9721|\n",
      "|  17| 9464|\n",
      "|  18| 9146|\n",
      "|  19| 9112|\n",
      "+----+-----+\n",
      "only showing top 20 rows\n",
      "\n",
      "None\n"
     ]
    }
   ],
   "source": [
    "# Check the result\n",
    "#Churn users\n",
    "print(hour_churned_song_df.show())\n",
    "#Non-churn users\n",
    "print(hour_stay_song_df.show())"
   ]
  },
  {
   "cell_type": "code",
   "execution_count": 23,
   "metadata": {},
   "outputs": [],
   "source": [
    "# convert to pandas, and to numeric for visualization\n",
    "#non-churn users\n",
    "hour_stay_song_pd = hour_stay_song_df.toPandas()\n",
    "hour_stay_song_pd.hour = pd.to_numeric(hour_stay_song_pd.hour)\n",
    "\n",
    "# Churn-users\n",
    "hour_churned_song_pd = hour_churned_song_df.toPandas()\n",
    "hour_churned_song_pd.hour = pd.to_numeric(hour_churned_song_pd.hour)"
   ]
  },
  {
   "cell_type": "code",
   "execution_count": 24,
   "metadata": {},
   "outputs": [
    {
     "data": {
      "image/png": "[encoded data removed]",
      "text/plain": [
       "<matplotlib.figure.Figure at 0x7f126e8590f0>"
      ]
     },
     "metadata": {
      "needs_background": "light"
     },
     "output_type": "display_data"
    },
    {
     "data": {
      "image/png": "[encoded data removed]",
      "text/plain": [
       "<matplotlib.figure.Figure at 0x7f126e21e2e8>"
      ]
     },
     "metadata": {
      "needs_background": "light"
     },
     "output_type": "display_data"
    }
   ],
   "source": [
    "# Visualization for non-churn users\n",
    "# Use scatter plot to see the relationship\n",
    "plt.figure(figsize = [10,10])\n",
    "plt.scatter(hour_stay_song_pd[\"hour\"], hour_stay_song_pd[\"count\"])\n",
    "plt.xlabel(\"Hour\")\n",
    "plt.ylabel(\"Songs played\")\n",
    "plt.title(\"Number of Songs Played per Hour (Non Churn Users)\")\n",
    "plt.show();\n",
    "\n",
    "\n",
    "#Visualization for churn user\n",
    "# use scatter plot to see the relationship\n",
    "plt.figure(figsize = [10,10])\n",
    "plt.scatter(hour_churned_song_pd[\"hour\"], hour_churned_song_pd[\"count\"])\n",
    "plt.xlabel(\"Hour\")\n",
    "plt.ylabel(\"Songs played\")\n",
    "plt.title(\"Number of Songs Played per Hour Users who Churned\")\n",
    "plt.show();"
   ]
  },
  {
   "cell_type": "markdown",
   "metadata": {},
   "source": [
    "From these figures above, we can see that both churned-users and non-churned users have the similar pattern distribution. Around **3pm** experienced the peak of songs have been played between these two types of users, and it started to fall down rapidly since 3pm. However, **3pm-8pm** is the golden time for both two types of users because they likely to listen to songs more compared to other time during a day.\n",
    "\n",
    "However, the frequency of played songs tend for churned users are fewer around **2000** compared to **9500** for non-churned users. "
   ]
  },
  {
   "cell_type": "markdown",
   "metadata": {},
   "source": [
    "### Song per Sessions between Churned and Non-churned users\n",
    "\n",
    "We could make a predict that the churned users tend to have fewer listen session compared to non-churned users. However, Let's do a quick check to ensure we are correct"
   ]
  },
  {
   "cell_type": "code",
   "execution_count": 25,
   "metadata": {},
   "outputs": [
    {
     "data": {
      "image/png": "[encoded data removed]",
      "text/plain": [
       "<matplotlib.figure.Figure at 0x7f126e080c88>"
      ]
     },
     "metadata": {
      "needs_background": "light"
     },
     "output_type": "display_data"
    }
   ],
   "source": [
    "# Filter page with \"NextSong\", get the unique category, and do the group by their session id and churn we have built above\n",
    "song_df= df.filter(df.page == \"NextSong\").dropDuplicates().groupBy('sessionId','churn').count()\n",
    "\n",
    "# get average grouped by churn\n",
    "\n",
    "avg_song_df = song_df.groupby('churn').agg({\"count\":\"avg\"})\n",
    "\n",
    "# to Pandas for plotting\n",
    "avg_song_pd = avg_song_df.toPandas()\n",
    "\n",
    "# visualization with barplot to check \n",
    "plt.figure(figsize = [5,5])\n",
    "ax = sns.barplot(data = avg_song_pd, x = 'churn', y='avg(count)', hue = \"churn\")\n",
    "plt.title(\"Average Number of Songs Played per Session for Churned Users vs. Non-Churned Users\")\n",
    "plt.ylabel(\"Average Number of Songs Played Per Session\")\n",
    "plt.show();"
   ]
  },
  {
   "cell_type": "markdown",
   "metadata": {},
   "source": [
    "From the figure above, the result is like our expected that the churned users tend to listen to fewer songs per sessions compared to non-churned users. "
   ]
  },
  {
   "cell_type": "markdown",
   "metadata": {},
   "source": [
    "### Number of different artists listen by churned and non-churned users"
   ]
  },
  {
   "cell_type": "code",
   "execution_count": 26,
   "metadata": {},
   "outputs": [],
   "source": [
    "# Filter the artists, and groupby users id and churn\n",
    "artist_df = df.select(\"artist\", \"userId\", \"churn\").dropDuplicates().groupby(\"userId\", \"churn\").count()\n",
    "#to pandas\n",
    "artist_pd = artist_df.toPandas()\n"
   ]
  },
  {
   "cell_type": "code",
   "execution_count": 27,
   "metadata": {},
   "outputs": [
    {
     "data": {
      "image/png": "[encoded data removed]",
      "text/plain": [
       "<matplotlib.figure.Figure at 0x7f126df31da0>"
      ]
     },
     "metadata": {
      "needs_background": "light"
     },
     "output_type": "display_data"
    }
   ],
   "source": [
    "# Visualiation\n",
    "#plot boxplot\n",
    "plt.figure(figsize = [10,10 ])\n",
    "ax = sns.boxplot(data = artist_pd, x = 'churn', y='count', hue='churn')\n",
    "plt.title(\"Number of Artists Listened to on Sparkify\")\n",
    "plt.show();"
   ]
  },
  {
   "cell_type": "markdown",
   "metadata": {},
   "source": [
    "From the boxplot, we can see that non-churned users tend to listen different number of artists compared to churned users around 200 difference between these two types of users."
   ]
  },
  {
   "cell_type": "markdown",
   "metadata": {},
   "source": [
    "#### Number of songs added to playlist "
   ]
  },
  {
   "cell_type": "code",
   "execution_count": 28,
   "metadata": {},
   "outputs": [
    {
     "name": "stdout",
     "output_type": "stream",
     "text": [
      "+-----+--------+-----+\n",
      "|churn|Playlist|count|\n",
      "+-----+--------+-----+\n",
      "|    1|       1| 1038|\n",
      "|    0|       1| 5488|\n",
      "+-----+--------+-----+\n",
      "\n"
     ]
    }
   ],
   "source": [
    "# Create function to flag\n",
    "\n",
    "add_playlist = udf(lambda x: 1 if x == \"Add to Playlist\" else 0, IntegerType())\n",
    "#Assign value into this new df\n",
    "playlist_df = df.select([\"userId\", \"page\"])\n",
    "# Create new column Playlist\n",
    "playlist_df = df.withColumn(\"Playlist\", add_playlist(\"page\"))\n",
    "\n",
    "# Check the result\n",
    "playlist_df=playlist_df.filter(playlist_df.page == \"Add to Playlist\").groupBy(['churn', 'Playlist']).count()\n",
    "playlist_df.show()"
   ]
  },
  {
   "cell_type": "code",
   "execution_count": 29,
   "metadata": {},
   "outputs": [
    {
     "data": {
      "image/png": "[encoded data removed]",
      "text/plain": [
       "<matplotlib.figure.Figure at 0x7f126cf14908>"
      ]
     },
     "metadata": {
      "needs_background": "light"
     },
     "output_type": "display_data"
    }
   ],
   "source": [
    "#to pandas for thumb down\n",
    "playlist_df_pd = playlist_df.toPandas()\n",
    "\n",
    "# Visualiaton\n",
    "## Visualiation for add playlist\n",
    "#plot barplot\n",
    "plt.figure(figsize = [5,5 ])\n",
    "ax = sns.barplot(data = playlist_df_pd, x = 'churn', y='count', hue='churn')\n",
    "plt.title(\"Number of Songs Added to Playlist on Sparkify\")\n",
    "plt.xlabel(\"Churn\")\n",
    "plt.ylabel(\"Total of songs added on Playlist\")\n",
    "plt.show();"
   ]
  },
  {
   "cell_type": "markdown",
   "metadata": {},
   "source": [
    "From the above figure, we could see that non-churned users tend to add more songs into their playlists compared to users decided to churn, more than 5000 songs compare to 1000 songs respectively. \n",
    "\n"
   ]
  },
  {
   "cell_type": "markdown",
   "metadata": {},
   "source": [
    "### Friend\n",
    "   #### Number of friends added "
   ]
  },
  {
   "cell_type": "code",
   "execution_count": 30,
   "metadata": {},
   "outputs": [
    {
     "name": "stdout",
     "output_type": "stream",
     "text": [
      "+-----+----------+-----+\n",
      "|churn|Add_Friend|count|\n",
      "+-----+----------+-----+\n",
      "|    1|         1|  636|\n",
      "|    0|         1| 3641|\n",
      "+-----+----------+-----+\n",
      "\n"
     ]
    }
   ],
   "source": [
    "# Create function to flag\n",
    "\n",
    "add_friend = udf(lambda x: 1 if x == \"Add Friend\" else 0, IntegerType())#Assign value into this new df\n",
    "friend_df = df.select([\"userId\", \"page\"])\n",
    "# Create new column Add Friend\n",
    "friend_df = df.withColumn(\"Add_Friend\", add_friend(\"page\"))\n",
    "\n",
    "# Check the result\n",
    "friend_df=friend_df.filter(friend_df.page == \"Add Friend\").groupBy(['churn', 'Add_Friend']).count()\n",
    "friend_df.show()"
   ]
  },
  {
   "cell_type": "code",
   "execution_count": 31,
   "metadata": {},
   "outputs": [
    {
     "data": {
      "image/png": "[encoded data removed]",
      "text/plain": [
       "<matplotlib.figure.Figure at 0x7f126c9c7550>"
      ]
     },
     "metadata": {
      "needs_background": "light"
     },
     "output_type": "display_data"
    }
   ],
   "source": [
    "#to pandas\n",
    "friend_df_pd = friend_df.toPandas()\n",
    "\n",
    "# Visualiaton\n",
    "#plot barplot\n",
    "plt.figure(figsize = [5,5 ])\n",
    "ax = sns.barplot(data = friend_df_pd , x = 'churn', y='count', hue='churn')\n",
    "plt.title(\"Number of Friends Added on Sparkify\")\n",
    "plt.xlabel(\"Churn\")\n",
    "plt.ylabel(\"Total of Friends Added on Playlist\")\n",
    "plt.show();"
   ]
  },
  {
   "cell_type": "markdown",
   "metadata": {},
   "source": [
    "Like the number of songs added on Sparkify, the number of friends added for non-churned users are higher more than 3500 friends compared to only under 1000 friends for users decided to churn"
   ]
  },
  {
   "cell_type": "markdown",
   "metadata": {},
   "source": [
    "### Retention:\n",
    "#### Number of days since registering \n"
   ]
  },
  {
   "cell_type": "code",
   "execution_count": 32,
   "metadata": {},
   "outputs": [
    {
     "name": "stdout",
     "output_type": "stream",
     "text": [
      "+------+-------------+-------------+-----+----+\n",
      "|userId| registration|           ts|churn|Rank|\n",
      "+------+-------------+-------------+-----+----+\n",
      "|    10|1538159495000|1542631788000|    0|   1|\n",
      "|    10|1538159495000|1542631753000|    0|   2|\n",
      "|    10|1538159495000|1542631690000|    0|   3|\n",
      "|    10|1538159495000|1542631518000|    0|   4|\n",
      "|    10|1538159495000|1542631517000|    0|   5|\n",
      "|    10|1538159495000|1542631090000|    0|   6|\n",
      "|    10|1538159495000|1542630866000|    0|   7|\n",
      "|    10|1538159495000|1542630637000|    0|   8|\n",
      "|    10|1538159495000|1542630407000|    0|   9|\n",
      "|    10|1538159495000|1542630394000|    0|  10|\n",
      "|    10|1538159495000|1542630248000|    0|  11|\n",
      "|    10|1538159495000|1542630247000|    0|  12|\n",
      "|    10|1538159495000|1542630029000|    0|  13|\n",
      "|    10|1538159495000|1542629861000|    0|  14|\n",
      "|    10|1538159495000|1542629636000|    0|  15|\n",
      "|    10|1538159495000|1542629464000|    0|  16|\n",
      "|    10|1538159495000|1542629238000|    0|  17|\n",
      "|    10|1538159495000|1542629029000|    0|  18|\n",
      "|    10|1538159495000|1542629028000|    0|  19|\n",
      "|    10|1538159495000|1542628798000|    0|  20|\n",
      "+------+-------------+-------------+-----+----+\n",
      "only showing top 20 rows\n",
      "\n"
     ]
    }
   ],
   "source": [
    "# create new dataframe, and choose registration to check with ts for datetime\n",
    "## Remember to use sort to sort by their dates\n",
    "df_days = df.select(['userId', 'registration', 'ts', 'churn']).dropDuplicates().sort('userId')\n",
    "\n",
    "# order by lastest date\n",
    "# I use this page to create Rank with dense rank to rank the date with windown function\n",
    "#https://sparkbyexamples.com/pyspark/pyspark-window-functions/\n",
    "# window function for sorting with pyspark\n",
    "w = Window.partitionBy(\"userId\").orderBy(desc(\"ts\"))\n",
    "# create a rank with the most recent timestamp as rank number 1\n",
    "df_days = df_days.withColumn(\"Rank\", dense_rank().over(w))\n",
    "# Check the result\n",
    "df_days.show()"
   ]
  },
  {
   "cell_type": "code",
   "execution_count": 33,
   "metadata": {},
   "outputs": [],
   "source": [
    "# Get rank 1for first row \n",
    "df_days = df_days.filter(df_days.Rank == 1).drop(df_days.Rank)\n",
    "\n",
    "# Createn new column name delta to find the difference between the registration from ts \n",
    "df_days = df_days.withColumn(\"delta\", (df_days['ts']) - (df_days['registration']))\n",
    "# Convert to days \n",
    "df_days = df_days.withColumn('days',(df_days['delta']/1000/3600/24))"
   ]
  },
  {
   "cell_type": "code",
   "execution_count": 34,
   "metadata": {},
   "outputs": [
    {
     "data": {
      "image/png": "[encoded data removed]",
      "text/plain": [
       "<matplotlib.figure.Figure at 0x7f126dc6b4e0>"
      ]
     },
     "metadata": {
      "needs_background": "light"
     },
     "output_type": "display_data"
    }
   ],
   "source": [
    "# to Pandas \n",
    "df_days_pd = df_days.toPandas()\n",
    "# plot boxplot\n",
    "plt.figure(figsize=[8,6])\n",
    "sns.boxplot(data = df_days_pd, x = 'churn', y ='days')\n",
    "plt.ylabel(\"Days Since Registered\")\n",
    "plt.title('Number of Days for Users Decided to Churned or Stay Since Registering')\n",
    "plt.show();"
   ]
  },
  {
   "cell_type": "markdown",
   "metadata": {},
   "source": [
    "Those who had been registered with Sparkify for a longer period of time were more likely to stay. Users who had recently registered were more likely to churn."
   ]
  },
  {
   "cell_type": "markdown",
   "metadata": {},
   "source": [
    "### Like/Dislike Action\n",
    "#### Number of thumb down actions "
   ]
  },
  {
   "cell_type": "code",
   "execution_count": 35,
   "metadata": {},
   "outputs": [
    {
     "name": "stdout",
     "output_type": "stream",
     "text": [
      "+-----+-----------+-----+\n",
      "|churn|Thumbs Down|count|\n",
      "+-----+-----------+-----+\n",
      "|    1|          1|  496|\n",
      "|    0|          1| 2050|\n",
      "+-----+-----------+-----+\n",
      "\n",
      "+-----+---------+-----+\n",
      "|churn|Thumbs Up|count|\n",
      "+-----+---------+-----+\n",
      "|    1|        1| 1859|\n",
      "|    0|        1|10692|\n",
      "+-----+---------+-----+\n",
      "\n"
     ]
    }
   ],
   "source": [
    "# Thumbdown \n",
    "thumbdown_event = udf(lambda x: 1 if x == \"Thumbs Down\" else 0, IntegerType())\n",
    "thumbdown_df = df.withColumn(\"Thumbs Down\", thumbdown_event(\"page\"))\n",
    "\n",
    "#thumb up\n",
    "thumbup_event = udf(lambda x: 1 if x == \"Thumbs Up\" else 0, IntegerType())\n",
    "thumbup_df = df.withColumn(\"Thumbs Up\", thumbup_event(\"page\"))\n",
    "\n",
    "# Check the result\n",
    "# Thumbdown\n",
    "thumb_down_df= thumbdown_df.filter(thumbdown_df.page == \"Thumbs Down\").dropDuplicates().groupBy(['churn', 'Thumbs Down']).count()\n",
    "thumb_down_df.show()\n",
    "\n",
    "#ThumbUp\n",
    "thumbup_df= thumbup_df.filter(thumbup_df.page == \"Thumbs Up\").dropDuplicates().groupBy(['churn', 'Thumbs Up']).count()\n",
    "thumbup_df.show()\n"
   ]
  },
  {
   "cell_type": "code",
   "execution_count": 36,
   "metadata": {},
   "outputs": [
    {
     "data": {
      "image/png": "[encoded data removed]",
      "text/plain": [
       "<matplotlib.figure.Figure at 0x7f126bf34f98>"
      ]
     },
     "metadata": {
      "needs_background": "light"
     },
     "output_type": "display_data"
    },
    {
     "data": {
      "image/png": "[encoded data removed]",
      "text/plain": [
       "<matplotlib.figure.Figure at 0x7f126a827be0>"
      ]
     },
     "metadata": {
      "needs_background": "light"
     },
     "output_type": "display_data"
    }
   ],
   "source": [
    "#to pandas for thumb down\n",
    "thumb_down_pd = thumb_down_df.toPandas()\n",
    "#to pandas for thumb up\n",
    "thumbup_pd = thumbup_df.toPandas()\n",
    "\n",
    "# Visualiaton\n",
    "## Visualiation for Thumb Downs\n",
    "#plot barplot\n",
    "plt.figure(figsize = [5,5 ])\n",
    "ax = sns.barplot(data = thumb_down_pd, x = 'churn', y='count', hue='churn')\n",
    "plt.title(\"Number of Thumbs Down Action on Sparkify\")\n",
    "plt.show();\n",
    "\n",
    "## Visualiation for Thumbs Up\n",
    "#plot barplot\n",
    "plt.figure(figsize = [5,5 ])\n",
    "ax = sns.barplot(data = thumbup_pd, x = 'churn', y='count', hue='churn')\n",
    "plt.title(\"Number of Thumbs Up Action on Sparkify\")\n",
    "plt.show();\n"
   ]
  },
  {
   "cell_type": "markdown",
   "metadata": {},
   "source": [
    "From above figures, we could cleary see that the thumb up or thumb down actions of non-churned users are higher compared to churned users. Users tend to stay spend more like/dislike actions compared to users who decide to churn"
   ]
  },
  {
   "cell_type": "markdown",
   "metadata": {},
   "source": [
    "###  Categorical Membership:\n",
    "#### Users who churned and non-churned users by their membership type"
   ]
  },
  {
   "cell_type": "code",
   "execution_count": 37,
   "metadata": {},
   "outputs": [
    {
     "name": "stdout",
     "output_type": "stream",
     "text": [
      "+-----+-----+-----+\n",
      "|level|churn|count|\n",
      "+-----+-----+-----+\n",
      "| free|    0|  149|\n",
      "| paid|    0|  129|\n",
      "| free|    1|   46|\n",
      "| paid|    1|   36|\n",
      "+-----+-----+-----+\n",
      "\n"
     ]
    }
   ],
   "source": [
    "# create the level dataframe. level meaning here is their membership type\n",
    "df_member = df.select(['userId', 'churn', 'level']).dropDuplicates().groupBy('level','churn').count()\n",
    "# Check the result\n",
    "df_member.show()"
   ]
  },
  {
   "cell_type": "code",
   "execution_count": 38,
   "metadata": {
    "scrolled": true
   },
   "outputs": [
    {
     "data": {
      "image/png": "[encoded data removed]",
      "text/plain": [
       "<matplotlib.figure.Figure at 0x7f12829782e8>"
      ]
     },
     "metadata": {
      "needs_background": "light"
     },
     "output_type": "display_data"
    }
   ],
   "source": [
    "# convert to pandas for visualisation\n",
    "member_pd= df_member.toPandas()\n",
    "\n",
    "# plot the barplot\n",
    "plt.figure(figsize = [8,6])\n",
    "ax = sns.barplot(data = member_pd, x = 'churn', y='count', hue = 'level')\n",
    "ax.legend(loc = 1, ncol = 2, framealpha =1, title = 'level (Membership)')\n",
    "plt.title(\"Number of Users That Churned by Membership\");"
   ]
  },
  {
   "cell_type": "code",
   "execution_count": 39,
   "metadata": {},
   "outputs": [
    {
     "name": "stdout",
     "output_type": "stream",
     "text": [
      "0.2358974358974359\n",
      "0.21818181818181817\n"
     ]
    }
   ],
   "source": [
    "# free churn rate\n",
    "print(46/(46+149))\n",
    "\n",
    "# paid churn rate\n",
    "print(36/(129+36))"
   ]
  },
  {
   "cell_type": "markdown",
   "metadata": {},
   "source": [
    "From above figures, we can see that free user likely to churn with 23.6% rate compared to paid users with the rate only 21.8%. \n",
    "\n",
    "Now, moving into discover about could \"gender\" impact on the churn or stay decision. \n",
    "\n"
   ]
  },
  {
   "cell_type": "markdown",
   "metadata": {},
   "source": [
    "###  Categorical Gender: Impact on Users who Churned vs Users who Stayed"
   ]
  },
  {
   "cell_type": "code",
   "execution_count": 40,
   "metadata": {},
   "outputs": [
    {
     "name": "stdout",
     "output_type": "stream",
     "text": [
      "+------+-----+-----+\n",
      "|gender|churn|count|\n",
      "+------+-----+-----+\n",
      "|     F|    0|   84|\n",
      "|     F|    1|   20|\n",
      "|     M|    0|   89|\n",
      "|     M|    1|   32|\n",
      "+------+-----+-----+\n",
      "\n"
     ]
    }
   ],
   "source": [
    "# create gender df grouped by userID, churn and gender by order\n",
    "df_gender = df.select(['userId', 'churn', 'gender']).dropDuplicates().groupBy('gender', 'churn').count()\n",
    "#Check the result\n",
    "df_gender.show()"
   ]
  },
  {
   "cell_type": "code",
   "execution_count": 41,
   "metadata": {},
   "outputs": [],
   "source": [
    "# Convert into Pandas and do the visualization\n",
    "df_gender = df_gender.toPandas()"
   ]
  },
  {
   "cell_type": "code",
   "execution_count": 42,
   "metadata": {
    "scrolled": true
   },
   "outputs": [
    {
     "data": {
      "image/png": "[encoded data removed]",
      "text/plain": [
       "<matplotlib.figure.Figure at 0x7f128296ab70>"
      ]
     },
     "metadata": {
      "needs_background": "light"
     },
     "output_type": "display_data"
    }
   ],
   "source": [
    "# order for the visualisation\n",
    "df_gender = df_gender.sort_values('count', ascending = False)\n",
    "\n",
    "\n",
    "# seaborn barplot\n",
    "plt.figure(figsize = [10,10])\n",
    "ax = sns.barplot(data = df_gender, x = 'churn', y='count', hue = 'gender')\n",
    "ax.legend(loc = 1, ncol = 2, framealpha =1, title = 'gender')\n",
    "plt.title(\"Number of Users That Churned by Gender\");\n",
    "plt.xlabel(\"Churns and Stayed\");\n",
    "plt.ylabel(\"Total Number\");\n",
    "plt.show()"
   ]
  },
  {
   "cell_type": "code",
   "execution_count": 43,
   "metadata": {
    "scrolled": true
   },
   "outputs": [
    {
     "name": "stdout",
     "output_type": "stream",
     "text": [
      "Churn Rate for Female Users: 0.19230769230769232\n",
      "Churn Rate for Male Users: 0.2644628099173554\n"
     ]
    }
   ],
   "source": [
    "# Calculate the churn rate between females and males\n",
    "# female churn rate\n",
    "female_churn= 20/(20+84)\n",
    "# male churn rate\n",
    "male_churn=32/(89+32)\n",
    "\n",
    "print(\"Churn Rate for Female Users:\", female_churn)\n",
    "print(\"Churn Rate for Male Users:\",male_churn)"
   ]
  },
  {
   "cell_type": "markdown",
   "metadata": {},
   "source": [
    "Male have higher churn rate compared to Female Users, 0.264 compared to 0192 respectively. However, it is not a big difference between male and female users. "
   ]
  },
  {
   "cell_type": "markdown",
   "metadata": {},
   "source": [
    "# Feature Engineering\n",
    "\n",
    "After we have some insights of our data, we can finally build these features that could be used for our model later on. \n"
   ]
  },
  {
   "cell_type": "markdown",
   "metadata": {},
   "source": [
    "The features for trainning models:\n",
    "\n",
    "- Categorical:\n",
    "    - Gender \n",
    "    - Membership (Free versus Paid)\n",
    "- Numerical: \n",
    "    - Song Impacts:\n",
    "        - number of songs per session\n",
    "        - number of songs added to playlist\n",
    "    - Like/Dislike Action\n",
    "        - number of thumb down actions \n",
    "        - number of thumb up actions\n",
    "    - Friend\n",
    "        - number of friends added \n",
    "    - Artists Influence:\n",
    "        - number of different artists listened to on Sparkify \n",
    "    - Retention:\n",
    "        - number of days since registering \n",
    " \n",
    "We'll then add a `churn label` and combine everything together. This will generate a df with each row representing information about a single user. After we remove the `userId`, we can vectorize, standardize, and feed this df into our different machine learning algorithms."
   ]
  },
  {
   "cell_type": "markdown",
   "metadata": {},
   "source": [
    "First we will take our `categorical variables:` Gender and Membership for numeric conversion for our model."
   ]
  },
  {
   "cell_type": "markdown",
   "metadata": {},
   "source": [
    "### Gender\n",
    "We'll give a 1 for 'female' and a 0 for'male.'"
   ]
  },
  {
   "cell_type": "code",
   "execution_count": 44,
   "metadata": {},
   "outputs": [],
   "source": [
    "# create new df\n",
    "gender_new = df.select(['userId', 'gender']).dropDuplicates()\n",
    "\n",
    "# create gender column \n",
    "gender_new = gender_new.withColumn('gender', when(col('gender') == 'F', 1).otherwise(0))"
   ]
  },
  {
   "cell_type": "code",
   "execution_count": 45,
   "metadata": {
    "scrolled": true
   },
   "outputs": [
    {
     "data": {
      "text/plain": [
       "225"
      ]
     },
     "execution_count": 45,
     "metadata": {},
     "output_type": "execute_result"
    }
   ],
   "source": [
    "# check the result\n",
    "gender_new.count()"
   ]
  },
  {
   "cell_type": "code",
   "execution_count": 46,
   "metadata": {},
   "outputs": [
    {
     "name": "stdout",
     "output_type": "stream",
     "text": [
      "+------+------+\n",
      "|userId|gender|\n",
      "+------+------+\n",
      "|    44|     1|\n",
      "|    46|     1|\n",
      "|    41|     1|\n",
      "|    72|     1|\n",
      "|300023|     1|\n",
      "|    39|     1|\n",
      "|100010|     1|\n",
      "|    40|     1|\n",
      "|    94|     1|\n",
      "|    35|     1|\n",
      "|    75|     1|\n",
      "|   116|     1|\n",
      "|200001|     0|\n",
      "|200020|     0|\n",
      "|100008|     1|\n",
      "|200015|     0|\n",
      "|   100|     0|\n",
      "|100006|     1|\n",
      "|300005|     1|\n",
      "|    25|     1|\n",
      "+------+------+\n",
      "only showing top 20 rows\n",
      "\n"
     ]
    }
   ],
   "source": [
    "# check again\n",
    "gender_new.show()"
   ]
  },
  {
   "cell_type": "markdown",
   "metadata": {},
   "source": [
    "### Membership \n",
    "The next feature we'll look at is Membership or Level in our dataset. Because the level could change, we must only use the most recent. We can use the previous rank trick, which have been used for rank number of days since registeration."
   ]
  },
  {
   "cell_type": "code",
   "execution_count": 47,
   "metadata": {
    "scrolled": true
   },
   "outputs": [
    {
     "name": "stdout",
     "output_type": "stream",
     "text": [
      "+------+-----+-------------+----+\n",
      "|userId|level|           ts|Rank|\n",
      "+------+-----+-------------+----+\n",
      "|    10| paid|1542631788000|   1|\n",
      "|    10| paid|1542631753000|   2|\n",
      "|    10| paid|1542631690000|   3|\n",
      "|    10| paid|1542631518000|   4|\n",
      "|    10| paid|1542631517000|   5|\n",
      "|    10| paid|1542631090000|   6|\n",
      "|    10| paid|1542630866000|   7|\n",
      "|    10| paid|1542630637000|   8|\n",
      "|    10| paid|1542630407000|   9|\n",
      "|    10| paid|1542630394000|  10|\n",
      "|    10| paid|1542630248000|  11|\n",
      "|    10| paid|1542630247000|  12|\n",
      "|    10| paid|1542630029000|  13|\n",
      "|    10| paid|1542629861000|  14|\n",
      "|    10| paid|1542629636000|  15|\n",
      "|    10| paid|1542629464000|  16|\n",
      "|    10| paid|1542629238000|  17|\n",
      "|    10| paid|1542629029000|  18|\n",
      "|    10| paid|1542629028000|  19|\n",
      "|    10| paid|1542628798000|  20|\n",
      "+------+-----+-------------+----+\n",
      "only showing top 20 rows\n",
      "\n"
     ]
    }
   ],
   "source": [
    "# Select \n",
    "membership_new = df.select(['userId', 'level', 'ts']).dropDuplicates().sort('userId')\n",
    "\n",
    "# Window function with dense_Rank function\n",
    "#https://sparkbyexamples.com/pyspark/pyspark-window-functions/\n",
    "w = Window.partitionBy(\"userId\").orderBy(desc(\"ts\"))\n",
    "membership_new = membership_new.withColumn(\"Rank\", dense_rank().over(w))\n",
    "# Check the result\n",
    "membership_new.show()"
   ]
  },
  {
   "cell_type": "code",
   "execution_count": 48,
   "metadata": {},
   "outputs": [],
   "source": [
    "# Choose Rank = 1 only and drop the others\n",
    "membership_v2= membership_new.filter(membership_new.Rank == 1).drop('Rank')\n",
    "# and drop ts\n",
    "membership_v2 = membership_v2.drop('ts')\n",
    "# Add new column name\n",
    "membership_v2 = membership_v2.withColumn('membership', when(col('level') == 'paid', 1).otherwise(0))"
   ]
  },
  {
   "cell_type": "code",
   "execution_count": 49,
   "metadata": {},
   "outputs": [
    {
     "name": "stdout",
     "output_type": "stream",
     "text": [
      "225\n",
      "+------+-----+----------+\n",
      "|userId|level|membership|\n",
      "+------+-----+----------+\n",
      "|    10| paid|         1|\n",
      "|   100| paid|         1|\n",
      "|100001| free|         0|\n",
      "|100002| paid|         1|\n",
      "|100003| free|         0|\n",
      "|100004| paid|         1|\n",
      "|100005| free|         0|\n",
      "|100006| free|         0|\n",
      "|100007| paid|         1|\n",
      "|100008| free|         0|\n",
      "|100009| free|         0|\n",
      "|100010| free|         0|\n",
      "|100011| free|         0|\n",
      "|100012| free|         0|\n",
      "|100013| paid|         1|\n",
      "|100014| paid|         1|\n",
      "|100015| paid|         1|\n",
      "|100016| free|         0|\n",
      "|100017| free|         0|\n",
      "|100018| free|         0|\n",
      "+------+-----+----------+\n",
      "only showing top 20 rows\n",
      "\n",
      "None\n"
     ]
    }
   ],
   "source": [
    "# Do the count\n",
    "print(membership_v2.count())\n",
    "# Check the result\n",
    "print(membership_v2.show())"
   ]
  },
  {
   "cell_type": "markdown",
   "metadata": {},
   "source": [
    "#### Average number of songs played per session"
   ]
  },
  {
   "cell_type": "code",
   "execution_count": 50,
   "metadata": {},
   "outputs": [],
   "source": [
    "## Choose\n",
    "song_new = df.filter(df.page == \"NextSong\").groupBy('userId','sessionId').count()\n",
    "# Group for average calcualtion\n",
    "song_new = song_new.groupby('userId').agg({\"count\":\"avg\"})\n",
    "# Create new column avg for count\n",
    "song_new = song_new.withColumnRenamed(\"avg(count)\", \"Average Songs\")"
   ]
  },
  {
   "cell_type": "code",
   "execution_count": 51,
   "metadata": {},
   "outputs": [
    {
     "name": "stdout",
     "output_type": "stream",
     "text": [
      "225\n",
      "+------+------------------+\n",
      "|userId|     Average Songs|\n",
      "+------+------------------+\n",
      "|100010|39.285714285714285|\n",
      "|200002|              64.5|\n",
      "|   125|               8.0|\n",
      "|    51|             211.1|\n",
      "|   124|145.67857142857142|\n",
      "|     7|21.428571428571427|\n",
      "|    54| 81.17142857142858|\n",
      "|    15|136.71428571428572|\n",
      "|   155|136.66666666666666|\n",
      "|100014|42.833333333333336|\n",
      "|   132|             120.5|\n",
      "|   154|              28.0|\n",
      "|   101|             179.7|\n",
      "|    11|           40.4375|\n",
      "|300017|59.540983606557376|\n",
      "|   138|             138.0|\n",
      "|    29| 89.05882352941177|\n",
      "|    69|             125.0|\n",
      "|100021|              46.0|\n",
      "|    42| 87.14634146341463|\n",
      "+------+------------------+\n",
      "only showing top 20 rows\n",
      "\n",
      "None\n"
     ]
    }
   ],
   "source": [
    "# Check \n",
    "print(song_new.count())\n",
    "print(song_new.show())"
   ]
  },
  {
   "cell_type": "markdown",
   "metadata": {},
   "source": [
    "#### Number of like and dislike actions"
   ]
  },
  {
   "cell_type": "code",
   "execution_count": 52,
   "metadata": {},
   "outputs": [],
   "source": [
    "# Thumb down first\n",
    "thumbdown_new = df.select([\"userId\", \"page\"])\n",
    "# Thumb up second\n",
    "thumbup_new = df.select([\"userId\", \"page\"])\n",
    "# This function we have code above, just re-call it again no need to run\n",
    "#thumddown_event = udf(lambda x: 1 if x == \"Thumbs Down\" else 0, IntegerType())\n",
    "#thumbup_event = udf(lambda x: 1 if x == \"Thumbs Up\" else 0, IntegerType())\n",
    "\n",
    "## add new columns \n",
    "# Down\n",
    "thumbdown_new = thumbdown_new.withColumn(\"Thumbs Down\", thumbdown_event(\"page\"))\n",
    "# Up\n",
    "thumbup_new = thumbup_new.withColumn(\"Thumbs Up\", thumbup_event(\"page\"))\n",
    "\n",
    "# Do the sum\n",
    "# Down \n",
    "thumbdown_new = thumbdown_new.groupby('userId').sum(\"Thumbs Down\")\n",
    "# Up\n",
    "thumbup_new = thumbup_new.groupby('userId').sum(\"Thumbs Up\")\n",
    "# Create new column \n",
    "thumbdown_new = thumbdown_new.withColumnRenamed(\"sum(Thumbs Down)\", \"Total Thumbs Down\")\n",
    "thumbup_new = thumbup_new.withColumnRenamed(\"sum(Thumbs Up)\", \"Total Thumbs Up\")"
   ]
  },
  {
   "cell_type": "code",
   "execution_count": 53,
   "metadata": {},
   "outputs": [
    {
     "name": "stdout",
     "output_type": "stream",
     "text": [
      "225\n",
      "+------+-----------------+\n",
      "|userId|Total Thumbs Down|\n",
      "+------+-----------------+\n",
      "|100010|                5|\n",
      "|200002|                6|\n",
      "|   125|                0|\n",
      "|    51|               21|\n",
      "|   124|               41|\n",
      "|     7|                1|\n",
      "|    54|               29|\n",
      "|    15|               14|\n",
      "|   155|                3|\n",
      "|   132|               17|\n",
      "|   154|                0|\n",
      "|100014|                3|\n",
      "|   101|               16|\n",
      "|    11|                9|\n",
      "|   138|               24|\n",
      "|300017|               28|\n",
      "|    29|               22|\n",
      "|    69|                9|\n",
      "|100021|                5|\n",
      "|    42|               25|\n",
      "+------+-----------------+\n",
      "only showing top 20 rows\n",
      "\n",
      "None\n",
      "225\n",
      "+------+---------------+\n",
      "|userId|Total Thumbs Up|\n",
      "+------+---------------+\n",
      "|100010|             17|\n",
      "|200002|             21|\n",
      "|   125|              0|\n",
      "|    51|            100|\n",
      "|   124|            171|\n",
      "|     7|              7|\n",
      "|    54|            163|\n",
      "|    15|             81|\n",
      "|   155|             58|\n",
      "|   132|             96|\n",
      "|   154|             11|\n",
      "|100014|             17|\n",
      "|   101|             86|\n",
      "|    11|             40|\n",
      "|   138|             95|\n",
      "|300017|            303|\n",
      "|    29|            154|\n",
      "|    69|             72|\n",
      "|100021|             11|\n",
      "|    42|            166|\n",
      "+------+---------------+\n",
      "only showing top 20 rows\n",
      "\n",
      "None\n"
     ]
    }
   ],
   "source": [
    "# Check the thumb down count and its result\n",
    "print(thumbdown_new.count())\n",
    "print(thumbdown_new.show())\n",
    "# check the thumb up count and its result\n",
    "print(thumbup_new.count())\n",
    "print(thumbup_new.show())"
   ]
  },
  {
   "cell_type": "markdown",
   "metadata": {},
   "source": [
    "#### Number of Friends Added\n",
    "Similarly, the number of friends added can indicate whether or not a user is likely to churn. Previously, those who added more friends stayed on the app."
   ]
  },
  {
   "cell_type": "code",
   "execution_count": 54,
   "metadata": {},
   "outputs": [],
   "source": [
    "# Select\n",
    "friend_new = df.select([\"userId\", \"page\"])\n",
    "# this function has been code above\n",
    "#add_friend = udf(lambda x: 1 if x == \"Add Friend\" else 0, IntegerType())\n",
    "friend_new= friend_new.withColumn(\"add_friend\", add_friend(\"page\"))\n",
    "friend_new = friend_new.groupby('userId').sum(\"add_friend\")\n",
    "\n",
    "friend_new = friend_new.withColumnRenamed(\"sum(add_friend)\", \"Total Add Friend\")"
   ]
  },
  {
   "cell_type": "code",
   "execution_count": 55,
   "metadata": {
    "scrolled": true
   },
   "outputs": [
    {
     "name": "stdout",
     "output_type": "stream",
     "text": [
      "225\n",
      "+------+----------------+\n",
      "|userId|Total Add Friend|\n",
      "+------+----------------+\n",
      "|100010|               4|\n",
      "|200002|               4|\n",
      "|   125|               0|\n",
      "|    51|              28|\n",
      "|   124|              74|\n",
      "|     7|               1|\n",
      "|    54|              33|\n",
      "|    15|              31|\n",
      "|   155|              11|\n",
      "|   132|              41|\n",
      "|   154|               3|\n",
      "|100014|               6|\n",
      "|   101|              29|\n",
      "|    11|               6|\n",
      "|   138|              41|\n",
      "|300017|              63|\n",
      "|    29|              47|\n",
      "|    69|              12|\n",
      "|100021|               7|\n",
      "|    42|              52|\n",
      "+------+----------------+\n",
      "only showing top 20 rows\n",
      "\n",
      "None\n"
     ]
    }
   ],
   "source": [
    "# Check the add friend in this friend_new\n",
    "print(friend_new.count())\n",
    "print(friend_new.show())"
   ]
  },
  {
   "cell_type": "markdown",
   "metadata": {},
   "source": [
    "### Number of songs added to playlist\n",
    "Again, those who added more songs to their playlists had stayed with the service so this can provide an indication of whether a user is likely to churn."
   ]
  },
  {
   "cell_type": "code",
   "execution_count": 56,
   "metadata": {},
   "outputs": [],
   "source": [
    "# Select\n",
    "playlist_new= df.select([\"userId\", \"page\"])\n",
    "# this function has been defined above\n",
    "#add_playlist = udf(lambda x: 1 if x == \"Add to Playlist\" else 0, IntegerType())\n",
    "# Create new columns \n",
    "playlist_new = playlist_new.withColumn(\"Playlist\", add_playlist(\"page\"))\n",
    "# do the group and sum\n",
    "playlist_new = playlist_new.groupby('userId').sum(\"Playlist\")\n",
    "# create new column for new sum column\n",
    "playlist_new = playlist_new.withColumnRenamed(\"sum(Playlist)\",\"Total Playlist\")"
   ]
  },
  {
   "cell_type": "code",
   "execution_count": 57,
   "metadata": {},
   "outputs": [
    {
     "name": "stdout",
     "output_type": "stream",
     "text": [
      "225\n",
      "+------+--------------+\n",
      "|userId|Total Playlist|\n",
      "+------+--------------+\n",
      "|100010|             7|\n",
      "|200002|             8|\n",
      "|   125|             0|\n",
      "|    51|            52|\n",
      "|   124|           118|\n",
      "|     7|             5|\n",
      "|    54|            72|\n",
      "|    15|            59|\n",
      "|   155|            24|\n",
      "|   132|            38|\n",
      "|   154|             1|\n",
      "|100014|             7|\n",
      "|   101|            61|\n",
      "|    11|            20|\n",
      "|   138|            67|\n",
      "|300017|           113|\n",
      "|    29|            89|\n",
      "|    69|            33|\n",
      "|100021|             7|\n",
      "|    42|           104|\n",
      "+------+--------------+\n",
      "only showing top 20 rows\n",
      "\n",
      "None\n"
     ]
    }
   ],
   "source": [
    "# Check the number of songs added to playlist\n",
    "print(playlist_new.count())\n",
    "print(playlist_new.show())"
   ]
  },
  {
   "cell_type": "markdown",
   "metadata": {},
   "source": [
    "### Number of different Artists Listened to on Sparkify\n",
    "Users who listened to more diverse artists were less likely to churn, as we discovered in EDA."
   ]
  },
  {
   "cell_type": "code",
   "execution_count": 58,
   "metadata": {},
   "outputs": [],
   "source": [
    "artist_new = df.select(\"userId\", \"artist\").dropDuplicates().groupby(\"userId\").count()\n",
    "artist_new = artist_new.withColumnRenamed(\"count\", \"Number of Artists\")"
   ]
  },
  {
   "cell_type": "code",
   "execution_count": 59,
   "metadata": {},
   "outputs": [
    {
     "name": "stdout",
     "output_type": "stream",
     "text": [
      "225\n",
      "+------+-----------------+\n",
      "|userId|Number of Artists|\n",
      "+------+-----------------+\n",
      "|100010|              253|\n",
      "|200002|              340|\n",
      "|   125|                9|\n",
      "|    51|             1386|\n",
      "|   124|             2233|\n",
      "|     7|              143|\n",
      "|    15|             1303|\n",
      "|    54|             1745|\n",
      "|   155|              644|\n",
      "|   132|             1300|\n",
      "|   154|               79|\n",
      "|100014|              234|\n",
      "|   101|             1242|\n",
      "|    11|              535|\n",
      "|   138|             1333|\n",
      "|300017|             2071|\n",
      "|    29|             1805|\n",
      "|    69|              866|\n",
      "|100021|              208|\n",
      "|    42|             2074|\n",
      "+------+-----------------+\n",
      "only showing top 20 rows\n",
      "\n",
      "None\n"
     ]
    }
   ],
   "source": [
    "# Check the count and the results\n",
    "print(artist_new.count())\n",
    "print(artist_new.show())"
   ]
  },
  {
   "cell_type": "markdown",
   "metadata": {},
   "source": [
    "### Number of Days Since Registering\n",
    "\n",
    "Our EDA also thought the number of days since registering was useful. We discovered that users who had used the service for a shorter period of time churned more than those who had used it for a longer period of time."
   ]
  },
  {
   "cell_type": "code",
   "execution_count": 60,
   "metadata": {},
   "outputs": [],
   "source": [
    "\n",
    "days_new = df_days.drop('registration', 'ts', 'churn', 'delta')"
   ]
  },
  {
   "cell_type": "code",
   "execution_count": 61,
   "metadata": {},
   "outputs": [
    {
     "name": "stdout",
     "output_type": "stream",
     "text": [
      "225\n",
      "+------+------------------+\n",
      "|userId|              days|\n",
      "+------+------------------+\n",
      "|    10| 51.76265046296297|\n",
      "|   100| 64.87377314814815|\n",
      "|100001| 44.80021990740741|\n",
      "|100002|160.47207175925925|\n",
      "|100003|22.748113425925926|\n",
      "|100004|172.44008101851853|\n",
      "|100005| 85.19559027777778|\n",
      "|100006| 9.127164351851851|\n",
      "|100007|115.38761574074074|\n",
      "|100008| 68.22856481481482|\n",
      "|100009| 37.43827546296296|\n",
      "|100010|  55.6436574074074|\n",
      "|100011| 5.165115740740741|\n",
      "|100012| 43.05261574074074|\n",
      "|100013| 44.17873842592593|\n",
      "|100014| 85.08340277777778|\n",
      "|100015| 67.87921296296297|\n",
      "|100016| 75.01533564814815|\n",
      "|100017| 78.88440972222223|\n",
      "|100018|110.71211805555555|\n",
      "+------+------------------+\n",
      "only showing top 20 rows\n",
      "\n",
      "None\n"
     ]
    }
   ],
   "source": [
    "# Check the count and the results\n",
    "print(days_new.count())\n",
    "print(days_new.show())\n"
   ]
  },
  {
   "cell_type": "markdown",
   "metadata": {},
   "source": [
    "#### Label Creation\n",
    "Now we can create our `label column`, which will indicate whether the user churned (1) or not."
   ]
  },
  {
   "cell_type": "code",
   "execution_count": 62,
   "metadata": {},
   "outputs": [],
   "source": [
    "label = df.select(\"userId\", \"churn\").dropDuplicates().groupby(\"userId\", \"churn\").count()\n",
    "\n",
    "label = label.drop('count')\n",
    "\n",
    "label = label.withColumnRenamed(\"churn\", \"label\")"
   ]
  },
  {
   "cell_type": "code",
   "execution_count": 63,
   "metadata": {
    "scrolled": true
   },
   "outputs": [
    {
     "name": "stdout",
     "output_type": "stream",
     "text": [
      "225\n",
      "+------+-----+\n",
      "|userId|label|\n",
      "+------+-----+\n",
      "|100010|    0|\n",
      "|200002|    0|\n",
      "|   125|    1|\n",
      "|   124|    0|\n",
      "|    51|    1|\n",
      "|     7|    0|\n",
      "|    15|    0|\n",
      "|    54|    1|\n",
      "|   155|    0|\n",
      "|100014|    1|\n",
      "|   132|    0|\n",
      "|   154|    0|\n",
      "|   101|    1|\n",
      "|    11|    0|\n",
      "|   138|    0|\n",
      "|300017|    0|\n",
      "|100021|    1|\n",
      "|    29|    1|\n",
      "|    69|    0|\n",
      "|   112|    0|\n",
      "+------+-----+\n",
      "only showing top 20 rows\n",
      "\n",
      "None\n"
     ]
    }
   ],
   "source": [
    "# Check the count and the results\n",
    "# its should have the same 225\n",
    "print(label.count())\n",
    "print(label.show())"
   ]
  },
  {
   "cell_type": "markdown",
   "metadata": {},
   "source": [
    "#### Create Features for our Dataset\n",
    "\n",
    "Let's join our new features together by `userid`"
   ]
  },
  {
   "cell_type": "code",
   "execution_count": 64,
   "metadata": {},
   "outputs": [],
   "source": [
    "feature_df = gender_new.join(membership_v2, [\"userId\"]).join(song_new, [\"userId\"]).join(thumbdown_new, [\"userId\"]).join(thumbup_new, [\"userId\"]).join(friend_new, [\"userId\"]).join(playlist_new, [\"userId\"]).join(artist_new, [\"userId\"]).join(days_new, [\"userId\"]).join(label, [\"userId\"])\n",
    "# After join, we have to drop it\n",
    "feature_df = feature_df.drop('userId')\n"
   ]
  },
  {
   "cell_type": "code",
   "execution_count": 65,
   "metadata": {},
   "outputs": [],
   "source": [
    "feature_df  = feature_df.drop('level')\n"
   ]
  },
  {
   "cell_type": "markdown",
   "metadata": {},
   "source": [
    "#### Preprocessing\n"
   ]
  },
  {
   "cell_type": "code",
   "execution_count": 66,
   "metadata": {
    "scrolled": true
   },
   "outputs": [
    {
     "name": "stdout",
     "output_type": "stream",
     "text": [
      "root\n",
      " |-- gender: integer (nullable = false)\n",
      " |-- membership: integer (nullable = false)\n",
      " |-- Average Songs: double (nullable = true)\n",
      " |-- Total Thumbs Down: long (nullable = true)\n",
      " |-- Total Thumbs Up: long (nullable = true)\n",
      " |-- Total Add Friend: long (nullable = true)\n",
      " |-- Total Playlist: long (nullable = true)\n",
      " |-- Number of Artists: long (nullable = false)\n",
      " |-- days: double (nullable = true)\n",
      " |-- label: long (nullable = true)\n",
      "\n"
     ]
    }
   ],
   "source": [
    "# print schema\n",
    "feature_df.printSchema()"
   ]
  },
  {
   "cell_type": "markdown",
   "metadata": {},
   "source": [
    "We have to convert all to numerical datatype before we can train our models"
   ]
  },
  {
   "cell_type": "code",
   "execution_count": 67,
   "metadata": {
    "scrolled": false
   },
   "outputs": [
    {
     "name": "stdout",
     "output_type": "stream",
     "text": [
      "root\n",
      " |-- gender: float (nullable = false)\n",
      " |-- membership: float (nullable = false)\n",
      " |-- Average Songs: float (nullable = true)\n",
      " |-- Total Thumbs Down: float (nullable = true)\n",
      " |-- Total Thumbs Up: float (nullable = true)\n",
      " |-- Total Add Friend: float (nullable = true)\n",
      " |-- Total Playlist: float (nullable = true)\n",
      " |-- Number of Artists: float (nullable = false)\n",
      " |-- days: float (nullable = true)\n",
      " |-- label: float (nullable = true)\n",
      "\n"
     ]
    }
   ],
   "source": [
    "# Do the looping to convert all columns \n",
    "# Use float datatype for conversion\n",
    "for feature in feature_df.columns:\n",
    "    feature_df = feature_df.withColumn(feature, feature_df[feature].cast('float'))\n",
    "    \n",
    "    \n",
    "#check again\n",
    "feature_df.printSchema()"
   ]
  },
  {
   "cell_type": "code",
   "execution_count": 68,
   "metadata": {},
   "outputs": [],
   "source": [
    "# Check the result\n",
    "#features_df.show(5)"
   ]
  },
  {
   "cell_type": "markdown",
   "metadata": {},
   "source": [
    "#### Vector Transformation\n",
    "\n",
    "The vector transformation purpose is to convert our features into `vectors`. The vector can then be `standardised` and fed into the algorithms of our choice."
   ]
  },
  {
   "cell_type": "code",
   "execution_count": 69,
   "metadata": {},
   "outputs": [],
   "source": [
    "#Check this article for correct way\n",
    "#https://medium.com/@nutanbhogendrasharma/feature-transformer-vectorassembler-in-pyspark-ml-feature-part-3-b3c2c3c93ee9\n",
    "# https://pyshark.com/vectorassembler-in-pyspark/\n",
    "vector= VectorAssembler(inputCols = [\"gender\", \"membership\", \"Average Songs\", \"Total Thumbs Down\", \"Total Thumbs Up\", \"Total Add Friend\", \"Total Playlist\", \"Number of Artists\", \"days\"], outputCol = \"vec\")\n",
    "# Trasnformation\n",
    "trans_features_df = vector.transform(feature_df)\n"
   ]
  },
  {
   "cell_type": "code",
   "execution_count": 70,
   "metadata": {},
   "outputs": [
    {
     "name": "stdout",
     "output_type": "stream",
     "text": [
      "+------+----------+-------------+-----------------+---------------+----------------+--------------+-----------------+----------+-----+--------------------+\n",
      "|gender|membership|Average Songs|Total Thumbs Down|Total Thumbs Up|Total Add Friend|Total Playlist|Number of Artists|      days|label|                 vec|\n",
      "+------+----------+-------------+-----------------+---------------+----------------+--------------+-----------------+----------+-----+--------------------+\n",
      "|   1.0|       0.0|    39.285713|              5.0|           17.0|             4.0|           7.0|            253.0| 55.643658|  0.0|[1.0,0.0,39.28571...|\n",
      "|   0.0|       1.0|         64.5|              6.0|           21.0|             4.0|           8.0|            340.0|  70.07463|  0.0|[0.0,1.0,64.5,6.0...|\n",
      "|   0.0|       0.0|          8.0|              0.0|            0.0|             0.0|           0.0|              9.0|  71.31689|  1.0|(9,[2,7,8],[8.0,9...|\n",
      "|   1.0|       1.0|    145.67857|             41.0|          171.0|            74.0|         118.0|           2233.0| 131.55591|  0.0|[1.0,1.0,145.6785...|\n",
      "|   0.0|       1.0|        211.1|             21.0|          100.0|            28.0|          52.0|           1386.0| 19.455845|  1.0|[0.0,1.0,211.1000...|\n",
      "|   0.0|       0.0|    21.428572|              1.0|            7.0|             1.0|           5.0|            143.0|  72.77818|  0.0|[0.0,0.0,21.42857...|\n",
      "|   0.0|       1.0|    136.71428|             14.0|           81.0|            31.0|          59.0|           1303.0| 56.513577|  0.0|[0.0,1.0,136.7142...|\n",
      "|   1.0|       1.0|    81.171425|             29.0|          163.0|            33.0|          72.0|           1745.0|110.751686|  1.0|[1.0,1.0,81.17142...|\n",
      "|   1.0|       1.0|    136.66667|              3.0|           58.0|            11.0|          24.0|            644.0| 23.556019|  0.0|[1.0,1.0,136.6666...|\n",
      "|   0.0|       1.0|    42.833332|              3.0|           17.0|             6.0|           7.0|            234.0| 85.083405|  1.0|[0.0,1.0,42.83333...|\n",
      "|   1.0|       1.0|        120.5|             17.0|           96.0|            41.0|          38.0|           1300.0|  66.88911|  0.0|[1.0,1.0,120.5,17...|\n",
      "|   1.0|       0.0|         28.0|              0.0|           11.0|             3.0|           1.0|             79.0| 23.872038|  0.0|[1.0,0.0,28.0,0.0...|\n",
      "|   0.0|       1.0|        179.7|             16.0|           86.0|            29.0|          61.0|           1242.0|  53.96594|  1.0|[0.0,1.0,179.6999...|\n",
      "|   1.0|       1.0|      40.4375|              9.0|           40.0|             6.0|          20.0|            535.0| 124.47825|  0.0|[1.0,1.0,40.4375,...|\n",
      "|   0.0|       1.0|        138.0|             24.0|           95.0|            41.0|          67.0|           1333.0| 66.626686|  0.0|[0.0,1.0,138.0,24...|\n",
      "|   1.0|       1.0|    59.540985|             28.0|          303.0|            63.0|         113.0|           2071.0|  74.35852|  0.0|[1.0,1.0,59.54098...|\n",
      "|   0.0|       0.0|         46.0|              5.0|           11.0|             7.0|           7.0|            208.0|  64.73887|  1.0|[0.0,0.0,46.0,5.0...|\n",
      "|   0.0|       1.0|     89.05882|             22.0|          154.0|            47.0|          89.0|           1805.0|  60.10405|  1.0|[0.0,1.0,89.05882...|\n",
      "|   1.0|       1.0|        125.0|              9.0|           72.0|            12.0|          33.0|            866.0| 71.424446|  0.0|[1.0,1.0,125.0,9....|\n",
      "|   0.0|       0.0|     23.88889|              3.0|            9.0|             7.0|           7.0|            196.0|  87.46262|  0.0|[0.0,0.0,23.88888...|\n",
      "+------+----------+-------------+-----------------+---------------+----------------+--------------+-----------------+----------+-----+--------------------+\n",
      "only showing top 20 rows\n",
      "\n"
     ]
    }
   ],
   "source": [
    "trans_features_df.show()"
   ]
  },
  {
   "cell_type": "markdown",
   "metadata": {},
   "source": [
    "### Standardisation\n",
    "\n",
    "We can standardize our values now that we have our vectors. This is important for our ML models because it prevents the features with the highest values from dominating the results and allows us to make the individual features look like standard normally distributed data."
   ]
  },
  {
   "cell_type": "code",
   "execution_count": 71,
   "metadata": {},
   "outputs": [],
   "source": [
    "scaler = StandardScaler(inputCol=\"vec\", outputCol=\"features\", withStd=True)"
   ]
  },
  {
   "cell_type": "code",
   "execution_count": 72,
   "metadata": {},
   "outputs": [],
   "source": [
    "scaler_model = scaler.fit(trans_features_df)\n",
    "\n",
    "\n"
   ]
  },
  {
   "cell_type": "code",
   "execution_count": 73,
   "metadata": {},
   "outputs": [],
   "source": [
    "trans_features_df= scaler_model.transform(trans_features_df)\n"
   ]
  },
  {
   "cell_type": "code",
   "execution_count": 74,
   "metadata": {},
   "outputs": [
    {
     "data": {
      "text/plain": [
       "[Row(gender=1.0, membership=0.0, Average Songs=39.28571319580078, Total Thumbs Down=5.0, Total Thumbs Up=17.0, Total Add Friend=4.0, Total Playlist=7.0, Number of Artists=253.0, days=55.64365768432617, label=0.0, vec=DenseVector([1.0, 0.0, 39.2857, 5.0, 17.0, 4.0, 7.0, 253.0, 55.6437]), features=DenseVector([2.0013, 0.0, 0.9219, 0.3823, 0.2596, 0.1943, 0.214, 0.4189, 1.4775])),\n",
       " Row(gender=0.0, membership=1.0, Average Songs=64.5, Total Thumbs Down=6.0, Total Thumbs Up=21.0, Total Add Friend=4.0, Total Playlist=8.0, Number of Artists=340.0, days=70.07463073730469, label=0.0, vec=DenseVector([0.0, 1.0, 64.5, 6.0, 21.0, 4.0, 8.0, 340.0, 70.0746]), features=DenseVector([0.0, 2.0844, 1.5135, 0.4588, 0.3207, 0.1943, 0.2445, 0.563, 1.8606])),\n",
       " Row(gender=0.0, membership=0.0, Average Songs=8.0, Total Thumbs Down=0.0, Total Thumbs Up=0.0, Total Add Friend=0.0, Total Playlist=0.0, Number of Artists=9.0, days=71.31688690185547, label=1.0, vec=SparseVector(9, {2: 8.0, 7: 9.0, 8: 71.3169}), features=SparseVector(9, {2: 0.1877, 7: 0.0149, 8: 1.8936})),\n",
       " Row(gender=1.0, membership=1.0, Average Songs=145.67857360839844, Total Thumbs Down=41.0, Total Thumbs Up=171.0, Total Add Friend=74.0, Total Playlist=118.0, Number of Artists=2233.0, days=131.555908203125, label=0.0, vec=DenseVector([1.0, 1.0, 145.6786, 41.0, 171.0, 74.0, 118.0, 2233.0, 131.5559]), features=DenseVector([2.0013, 2.0844, 3.4185, 3.1352, 2.6116, 3.5954, 3.6067, 3.6973, 3.4931])),\n",
       " Row(gender=0.0, membership=1.0, Average Songs=211.10000610351562, Total Thumbs Down=21.0, Total Thumbs Up=100.0, Total Add Friend=28.0, Total Playlist=52.0, Number of Artists=1386.0, days=19.45584487915039, label=1.0, vec=DenseVector([0.0, 1.0, 211.1, 21.0, 100.0, 28.0, 52.0, 1386.0, 19.4558]), features=DenseVector([0.0, 2.0844, 4.9536, 1.6058, 1.5272, 1.3604, 1.5894, 2.2949, 0.5166]))]"
      ]
     },
     "execution_count": 74,
     "metadata": {},
     "output_type": "execute_result"
    }
   ],
   "source": [
    "feature_complete = trans_features_df\n",
    "# Check the result\n",
    "feature_complete.head(5)"
   ]
  },
  {
   "cell_type": "markdown",
   "metadata": {},
   "source": [
    "### Split for Train and Test Dataset"
   ]
  },
  {
   "cell_type": "code",
   "execution_count": 75,
   "metadata": {},
   "outputs": [
    {
     "name": "stdout",
     "output_type": "stream",
     "text": [
      "+-----+-----+\n",
      "|label|count|\n",
      "+-----+-----+\n",
      "|  1.0|   52|\n",
      "|  0.0|  173|\n",
      "+-----+-----+\n",
      "\n"
     ]
    }
   ],
   "source": [
    "# Check so see how many records we have in the total 225 values\n",
    "feature_complete.groupby('label').count().show()"
   ]
  },
  {
   "cell_type": "markdown",
   "metadata": {},
   "source": [
    "This is as expected; we can now divide our data into train, test, and validation sets. \n",
    "\n",
    "Based on this [article](https://machinelearningmastery.com/train-test-split-for-evaluating-machine-learning-algorithms/). I strongly suggest a 60:20:20 split here and include a seed so we can replicate the result. I used the same seed for each machine learning model so that my results could be replicated."
   ]
  },
  {
   "cell_type": "code",
   "execution_count": 76,
   "metadata": {},
   "outputs": [
    {
     "name": "stdout",
     "output_type": "stream",
     "text": [
      "Training Dataset:142\n",
      "Test Dataset:47\n",
      "Validation Dataset:36\n"
     ]
    }
   ],
   "source": [
    "train, test, valid = feature_complete.randomSplit([0.6, 0.2, 0.2], seed = 1996)\n",
    "print(\"Training Dataset:\" + str(train.count()))\n",
    "print(\"Test Dataset:\" + str(test.count()))\n",
    "print(\"Validation Dataset:\" + str(valid.count()))"
   ]
  },
  {
   "cell_type": "markdown",
   "metadata": {},
   "source": [
    "# Modeling\n",
    "\n",
    "We have now completed our features. We can divide the entire dataset into train, test, and validation sets using a dataFrame with only numeric variables. We will put various machine learning classification algorithms to the test, including:\n",
    "Logistic Regression -\n",
    " - Logistic Regression\n",
    " - Random Forest Classifier\n",
    " - Gradient-Boosted Tree Classifier\n",
    " - Linear Support Vector Machine\n",
    "\n",
    "We will use these classification algorithms because churn prediction is a binary classification problem, which means that customers will either churn (1) or stay (0) within a given time period.\n",
    "\n",
    "\n",
    "# Measurement to measure\n",
    "\n",
    "We will assess the accuracy of the various models and adjust parameters as needed. Finally, based on test accuracy, we will select our best model and report results on the `validation set`. Because churned users are a relatively small subset, I will optimize using the `F1 score`. \n",
    "\n",
    "`F1 score` is a model's accuracy on a dataset that is used to evaluate binary classification systems like the one we have here. \n",
    "\n",
    "The `F1-score` is a method of combining the model's precision and recall, and it provides a better measure of incorrectly classified cases than the accuracy metric. F1 is also better for dealing with classes that are imbalanced. "
   ]
  },
  {
   "cell_type": "markdown",
   "metadata": {},
   "source": [
    "We can now begin modeling. We will tune the model once we have identified the model with the best F1 score, accuracy, and time. The models I chose are listed below, along with the reasons why they were chosen. Each model chosen is appropriate for our binary classification problem of predicting churn.\n",
    "\n",
    "\n",
    "- **Logistic Regression**: The first machine learning algorithm we can try is logistic regression. Because this is a binary classification problem, logistic regression is a reliable machine learning algorithm to try. Logistic regression provides a model with good explainability. Logistic regression is also simple to implement, interpret, and train. It also has a lower proclivity for overfitting.  \n",
    "\n",
    "- **Random Forest:** Random Forest is an effective supervised learning algorithm for classification. RF is an ensemble method that predicts using multiple decision trees and uses a majority vote to make decisions. This can aid in avoiding overfitting. RF is also robust and performs well on imbalanced datasets like the one we have here.\n",
    "\n",
    "- **Gradient Boosted Tree Classifier:** GBT has a high predictive accuracy. In contrast to RF, which builds trees independently, this works by building one tree at a time, with each new tree helping to correct errors made by the previous tree. With GBT, there is a risk of overfitting, which must be considered. GBT, on the other hand, performs well with unbalanced data like the one we have here.\n",
    "\n",
    "- **Linear SVC:** Another supervised learning binary classification algorithm is SVC. It is memory efficient and works well with clear margins of separation between classes."
   ]
  },
  {
   "cell_type": "markdown",
   "metadata": {},
   "source": [
    "### Model Trainnings & Model Performance Evaluation\n",
    "Processes:\n",
    " - Instantiate \n",
    " - Fit Models on Train\n",
    " - Predicting\n",
    " - Evaluating\n"
   ]
  },
  {
   "cell_type": "code",
   "execution_count": 77,
   "metadata": {},
   "outputs": [],
   "source": [
    "# instantiate all of our models and include a seed for reproduciblity where possible\n",
    "lr = LogisticRegression(featuresCol = 'features', labelCol = 'label', maxIter=10)\n",
    "rf = RandomForestClassifier(featuresCol = 'features', labelCol = 'label', seed=1996)\n",
    "gbt = GBTClassifier(featuresCol = 'features', labelCol = 'label', maxIter=10, seed=1996)\n",
    "lsvc = LinearSVC(featuresCol = 'features', labelCol = 'label')\n",
    "\n",
    "\n",
    "#list of models\n",
    "ML_lists = [lr,rf,gbt,lsvc]\n",
    "\n",
    "# Model Evaluation\n",
    "evaluator = MulticlassClassificationEvaluator(labelCol = 'label', predictionCol='prediction')"
   ]
  },
  {
   "cell_type": "markdown",
   "metadata": {},
   "source": [
    "`Notice`: The LSVC could take a while for trainning so I skipped it!"
   ]
  },
  {
   "cell_type": "code",
   "execution_count": 78,
   "metadata": {},
   "outputs": [
    {
     "name": "stdout",
     "output_type": "stream",
     "text": [
      "LogisticRegression Begin Trainning\n",
      "LogisticRegression Finish Trainning\n",
      "Time Spent for LogisticRegression is: 108.75477862358093 seconds\n",
      "LogisticRegression Started Prediction\n",
      "LogisticRegression Finished Prediction\n",
      "F1 for LogisticRegression is: 0.7481481481481481\n",
      "The accuracy of the LogisticRegression model is: 0.7777777777777778\n",
      "RandomForestClassifier Begin Trainning\n",
      "RandomForestClassifier Finish Trainning\n",
      "Time Spent for RandomForestClassifier is: 167.4022707939148 seconds\n",
      "RandomForestClassifier Started Prediction\n",
      "RandomForestClassifier Finished Prediction\n",
      "F1 for RandomForestClassifier is: 0.7880631609445169\n",
      "The accuracy of the RandomForestClassifier model is: 0.8055555555555556\n",
      "GBTClassifier Begin Trainning\n",
      "GBTClassifier Finish Trainning\n",
      "Time Spent for GBTClassifier is: 230.1795356273651 seconds\n",
      "GBTClassifier Started Prediction\n",
      "GBTClassifier Finished Prediction\n",
      "F1 for GBTClassifier is: 0.7550802139037434\n",
      "The accuracy of the GBTClassifier model is: 0.75\n",
      "LinearSVC Begin Trainning\n"
     ]
    },
    {
     "ename": "KeyboardInterrupt",
     "evalue": "",
     "output_type": "error",
     "traceback": [
      "\u001b[0;31m---------------------------------------------------------------------------\u001b[0m",
      "\u001b[0;31mKeyboardInterrupt\u001b[0m                         Traceback (most recent call last)",
      "\u001b[0;32m<ipython-input-78-22a97b57fc73>\u001b[0m in \u001b[0;36m<module>\u001b[0;34m()\u001b[0m\n\u001b[1;32m     10\u001b[0m     \u001b[0mstart\u001b[0m \u001b[0;34m=\u001b[0m \u001b[0mtime\u001b[0m\u001b[0;34m.\u001b[0m\u001b[0mtime\u001b[0m\u001b[0;34m(\u001b[0m\u001b[0;34m)\u001b[0m\u001b[0;34m\u001b[0m\u001b[0m\n\u001b[1;32m     11\u001b[0m     \u001b[0;31m# fit the models on train dataset\u001b[0m\u001b[0;34m\u001b[0m\u001b[0;34m\u001b[0m\u001b[0m\n\u001b[0;32m---> 12\u001b[0;31m     \u001b[0mmodel\u001b[0m \u001b[0;34m=\u001b[0m \u001b[0mmodel\u001b[0m\u001b[0;34m.\u001b[0m\u001b[0mfit\u001b[0m\u001b[0;34m(\u001b[0m\u001b[0mtrain\u001b[0m\u001b[0;34m)\u001b[0m\u001b[0;34m\u001b[0m\u001b[0m\n\u001b[0m\u001b[1;32m     13\u001b[0m     \u001b[0;31m# end time\u001b[0m\u001b[0;34m\u001b[0m\u001b[0;34m\u001b[0m\u001b[0m\n\u001b[1;32m     14\u001b[0m     \u001b[0mend\u001b[0m \u001b[0;34m=\u001b[0m \u001b[0mtime\u001b[0m\u001b[0;34m.\u001b[0m\u001b[0mtime\u001b[0m\u001b[0;34m(\u001b[0m\u001b[0;34m)\u001b[0m\u001b[0;34m\u001b[0m\u001b[0m\n",
      "\u001b[0;32m/opt/spark-2.4.3-bin-hadoop2.7/python/pyspark/ml/base.py\u001b[0m in \u001b[0;36mfit\u001b[0;34m(self, dataset, params)\u001b[0m\n\u001b[1;32m    130\u001b[0m                 \u001b[0;32mreturn\u001b[0m \u001b[0mself\u001b[0m\u001b[0;34m.\u001b[0m\u001b[0mcopy\u001b[0m\u001b[0;34m(\u001b[0m\u001b[0mparams\u001b[0m\u001b[0;34m)\u001b[0m\u001b[0;34m.\u001b[0m\u001b[0m_fit\u001b[0m\u001b[0;34m(\u001b[0m\u001b[0mdataset\u001b[0m\u001b[0;34m)\u001b[0m\u001b[0;34m\u001b[0m\u001b[0m\n\u001b[1;32m    131\u001b[0m             \u001b[0;32melse\u001b[0m\u001b[0;34m:\u001b[0m\u001b[0;34m\u001b[0m\u001b[0m\n\u001b[0;32m--> 132\u001b[0;31m                 \u001b[0;32mreturn\u001b[0m \u001b[0mself\u001b[0m\u001b[0;34m.\u001b[0m\u001b[0m_fit\u001b[0m\u001b[0;34m(\u001b[0m\u001b[0mdataset\u001b[0m\u001b[0;34m)\u001b[0m\u001b[0;34m\u001b[0m\u001b[0m\n\u001b[0m\u001b[1;32m    133\u001b[0m         \u001b[0;32melse\u001b[0m\u001b[0;34m:\u001b[0m\u001b[0;34m\u001b[0m\u001b[0m\n\u001b[1;32m    134\u001b[0m             raise ValueError(\"Params must be either a param map or a list/tuple of param maps, \"\n",
      "\u001b[0;32m/opt/spark-2.4.3-bin-hadoop2.7/python/pyspark/ml/wrapper.py\u001b[0m in \u001b[0;36m_fit\u001b[0;34m(self, dataset)\u001b[0m\n\u001b[1;32m    293\u001b[0m \u001b[0;34m\u001b[0m\u001b[0m\n\u001b[1;32m    294\u001b[0m     \u001b[0;32mdef\u001b[0m \u001b[0m_fit\u001b[0m\u001b[0;34m(\u001b[0m\u001b[0mself\u001b[0m\u001b[0;34m,\u001b[0m \u001b[0mdataset\u001b[0m\u001b[0;34m)\u001b[0m\u001b[0;34m:\u001b[0m\u001b[0;34m\u001b[0m\u001b[0m\n\u001b[0;32m--> 295\u001b[0;31m         \u001b[0mjava_model\u001b[0m \u001b[0;34m=\u001b[0m \u001b[0mself\u001b[0m\u001b[0;34m.\u001b[0m\u001b[0m_fit_java\u001b[0m\u001b[0;34m(\u001b[0m\u001b[0mdataset\u001b[0m\u001b[0;34m)\u001b[0m\u001b[0;34m\u001b[0m\u001b[0m\n\u001b[0m\u001b[1;32m    296\u001b[0m         \u001b[0mmodel\u001b[0m \u001b[0;34m=\u001b[0m \u001b[0mself\u001b[0m\u001b[0;34m.\u001b[0m\u001b[0m_create_model\u001b[0m\u001b[0;34m(\u001b[0m\u001b[0mjava_model\u001b[0m\u001b[0;34m)\u001b[0m\u001b[0;34m\u001b[0m\u001b[0m\n\u001b[1;32m    297\u001b[0m         \u001b[0;32mreturn\u001b[0m \u001b[0mself\u001b[0m\u001b[0;34m.\u001b[0m\u001b[0m_copyValues\u001b[0m\u001b[0;34m(\u001b[0m\u001b[0mmodel\u001b[0m\u001b[0;34m)\u001b[0m\u001b[0;34m\u001b[0m\u001b[0m\n",
      "\u001b[0;32m/opt/spark-2.4.3-bin-hadoop2.7/python/pyspark/ml/wrapper.py\u001b[0m in \u001b[0;36m_fit_java\u001b[0;34m(self, dataset)\u001b[0m\n\u001b[1;32m    290\u001b[0m         \"\"\"\n\u001b[1;32m    291\u001b[0m         \u001b[0mself\u001b[0m\u001b[0;34m.\u001b[0m\u001b[0m_transfer_params_to_java\u001b[0m\u001b[0;34m(\u001b[0m\u001b[0;34m)\u001b[0m\u001b[0;34m\u001b[0m\u001b[0m\n\u001b[0;32m--> 292\u001b[0;31m         \u001b[0;32mreturn\u001b[0m \u001b[0mself\u001b[0m\u001b[0;34m.\u001b[0m\u001b[0m_java_obj\u001b[0m\u001b[0;34m.\u001b[0m\u001b[0mfit\u001b[0m\u001b[0;34m(\u001b[0m\u001b[0mdataset\u001b[0m\u001b[0;34m.\u001b[0m\u001b[0m_jdf\u001b[0m\u001b[0;34m)\u001b[0m\u001b[0;34m\u001b[0m\u001b[0m\n\u001b[0m\u001b[1;32m    293\u001b[0m \u001b[0;34m\u001b[0m\u001b[0m\n\u001b[1;32m    294\u001b[0m     \u001b[0;32mdef\u001b[0m \u001b[0m_fit\u001b[0m\u001b[0;34m(\u001b[0m\u001b[0mself\u001b[0m\u001b[0;34m,\u001b[0m \u001b[0mdataset\u001b[0m\u001b[0;34m)\u001b[0m\u001b[0;34m:\u001b[0m\u001b[0;34m\u001b[0m\u001b[0m\n",
      "\u001b[0;32m/opt/spark-2.4.3-bin-hadoop2.7/python/lib/py4j-0.10.7-src.zip/py4j/java_gateway.py\u001b[0m in \u001b[0;36m__call__\u001b[0;34m(self, *args)\u001b[0m\n\u001b[1;32m   1253\u001b[0m             \u001b[0mproto\u001b[0m\u001b[0;34m.\u001b[0m\u001b[0mEND_COMMAND_PART\u001b[0m\u001b[0;34m\u001b[0m\u001b[0m\n\u001b[1;32m   1254\u001b[0m \u001b[0;34m\u001b[0m\u001b[0m\n\u001b[0;32m-> 1255\u001b[0;31m         \u001b[0manswer\u001b[0m \u001b[0;34m=\u001b[0m \u001b[0mself\u001b[0m\u001b[0;34m.\u001b[0m\u001b[0mgateway_client\u001b[0m\u001b[0;34m.\u001b[0m\u001b[0msend_command\u001b[0m\u001b[0;34m(\u001b[0m\u001b[0mcommand\u001b[0m\u001b[0;34m)\u001b[0m\u001b[0;34m\u001b[0m\u001b[0m\n\u001b[0m\u001b[1;32m   1256\u001b[0m         return_value = get_return_value(\n\u001b[1;32m   1257\u001b[0m             answer, self.gateway_client, self.target_id, self.name)\n",
      "\u001b[0;32m/opt/spark-2.4.3-bin-hadoop2.7/python/lib/py4j-0.10.7-src.zip/py4j/java_gateway.py\u001b[0m in \u001b[0;36msend_command\u001b[0;34m(self, command, retry, binary)\u001b[0m\n\u001b[1;32m    983\u001b[0m         \u001b[0mconnection\u001b[0m \u001b[0;34m=\u001b[0m \u001b[0mself\u001b[0m\u001b[0;34m.\u001b[0m\u001b[0m_get_connection\u001b[0m\u001b[0;34m(\u001b[0m\u001b[0;34m)\u001b[0m\u001b[0;34m\u001b[0m\u001b[0m\n\u001b[1;32m    984\u001b[0m         \u001b[0;32mtry\u001b[0m\u001b[0;34m:\u001b[0m\u001b[0;34m\u001b[0m\u001b[0m\n\u001b[0;32m--> 985\u001b[0;31m             \u001b[0mresponse\u001b[0m \u001b[0;34m=\u001b[0m \u001b[0mconnection\u001b[0m\u001b[0;34m.\u001b[0m\u001b[0msend_command\u001b[0m\u001b[0;34m(\u001b[0m\u001b[0mcommand\u001b[0m\u001b[0;34m)\u001b[0m\u001b[0;34m\u001b[0m\u001b[0m\n\u001b[0m\u001b[1;32m    986\u001b[0m             \u001b[0;32mif\u001b[0m \u001b[0mbinary\u001b[0m\u001b[0;34m:\u001b[0m\u001b[0;34m\u001b[0m\u001b[0m\n\u001b[1;32m    987\u001b[0m                 \u001b[0;32mreturn\u001b[0m \u001b[0mresponse\u001b[0m\u001b[0;34m,\u001b[0m \u001b[0mself\u001b[0m\u001b[0;34m.\u001b[0m\u001b[0m_create_connection_guard\u001b[0m\u001b[0;34m(\u001b[0m\u001b[0mconnection\u001b[0m\u001b[0;34m)\u001b[0m\u001b[0;34m\u001b[0m\u001b[0m\n",
      "\u001b[0;32m/opt/spark-2.4.3-bin-hadoop2.7/python/lib/py4j-0.10.7-src.zip/py4j/java_gateway.py\u001b[0m in \u001b[0;36msend_command\u001b[0;34m(self, command)\u001b[0m\n\u001b[1;32m   1150\u001b[0m \u001b[0;34m\u001b[0m\u001b[0m\n\u001b[1;32m   1151\u001b[0m         \u001b[0;32mtry\u001b[0m\u001b[0;34m:\u001b[0m\u001b[0;34m\u001b[0m\u001b[0m\n\u001b[0;32m-> 1152\u001b[0;31m             \u001b[0manswer\u001b[0m \u001b[0;34m=\u001b[0m \u001b[0msmart_decode\u001b[0m\u001b[0;34m(\u001b[0m\u001b[0mself\u001b[0m\u001b[0;34m.\u001b[0m\u001b[0mstream\u001b[0m\u001b[0;34m.\u001b[0m\u001b[0mreadline\u001b[0m\u001b[0;34m(\u001b[0m\u001b[0;34m)\u001b[0m\u001b[0;34m[\u001b[0m\u001b[0;34m:\u001b[0m\u001b[0;34m-\u001b[0m\u001b[0;36m1\u001b[0m\u001b[0;34m]\u001b[0m\u001b[0;34m)\u001b[0m\u001b[0;34m\u001b[0m\u001b[0m\n\u001b[0m\u001b[1;32m   1153\u001b[0m             \u001b[0mlogger\u001b[0m\u001b[0;34m.\u001b[0m\u001b[0mdebug\u001b[0m\u001b[0;34m(\u001b[0m\u001b[0;34m\"Answer received: {0}\"\u001b[0m\u001b[0;34m.\u001b[0m\u001b[0mformat\u001b[0m\u001b[0;34m(\u001b[0m\u001b[0manswer\u001b[0m\u001b[0;34m)\u001b[0m\u001b[0;34m)\u001b[0m\u001b[0;34m\u001b[0m\u001b[0m\n\u001b[1;32m   1154\u001b[0m             \u001b[0;32mif\u001b[0m \u001b[0manswer\u001b[0m\u001b[0;34m.\u001b[0m\u001b[0mstartswith\u001b[0m\u001b[0;34m(\u001b[0m\u001b[0mproto\u001b[0m\u001b[0;34m.\u001b[0m\u001b[0mRETURN_MESSAGE\u001b[0m\u001b[0;34m)\u001b[0m\u001b[0;34m:\u001b[0m\u001b[0;34m\u001b[0m\u001b[0m\n",
      "\u001b[0;32m/opt/conda/lib/python3.6/socket.py\u001b[0m in \u001b[0;36mreadinto\u001b[0;34m(self, b)\u001b[0m\n\u001b[1;32m    584\u001b[0m         \u001b[0;32mwhile\u001b[0m \u001b[0;32mTrue\u001b[0m\u001b[0;34m:\u001b[0m\u001b[0;34m\u001b[0m\u001b[0m\n\u001b[1;32m    585\u001b[0m             \u001b[0;32mtry\u001b[0m\u001b[0;34m:\u001b[0m\u001b[0;34m\u001b[0m\u001b[0m\n\u001b[0;32m--> 586\u001b[0;31m                 \u001b[0;32mreturn\u001b[0m \u001b[0mself\u001b[0m\u001b[0;34m.\u001b[0m\u001b[0m_sock\u001b[0m\u001b[0;34m.\u001b[0m\u001b[0mrecv_into\u001b[0m\u001b[0;34m(\u001b[0m\u001b[0mb\u001b[0m\u001b[0;34m)\u001b[0m\u001b[0;34m\u001b[0m\u001b[0m\n\u001b[0m\u001b[1;32m    587\u001b[0m             \u001b[0;32mexcept\u001b[0m \u001b[0mtimeout\u001b[0m\u001b[0;34m:\u001b[0m\u001b[0;34m\u001b[0m\u001b[0m\n\u001b[1;32m    588\u001b[0m                 \u001b[0mself\u001b[0m\u001b[0;34m.\u001b[0m\u001b[0m_timeout_occurred\u001b[0m \u001b[0;34m=\u001b[0m \u001b[0;32mTrue\u001b[0m\u001b[0;34m\u001b[0m\u001b[0m\n",
      "\u001b[0;31mKeyboardInterrupt\u001b[0m: "
     ]
    }
   ],
   "source": [
    "# Use for to loop throuhg all ML models \n",
    "\n",
    "for model in ML_lists:\n",
    "    # Import the name from the list\n",
    "    model_name = model.__class__.__name__\n",
    "    \n",
    "    # Just print to know its process\n",
    "    print(model_name, 'Begin Trainning')\n",
    "    \n",
    "    # Count the time this is running\n",
    "    start = time.time()\n",
    "    # fit the models on train dataset\n",
    "    model = model.fit(train)\n",
    "    # end time\n",
    "    end = time.time()\n",
    "     \n",
    "    # Trainning \n",
    "    print(model_name, 'Finish Trainning')\n",
    "    # print time taken\n",
    "    print('Time Spent for {} is:'.format(model_name),(end-start),'seconds')\n",
    "    \n",
    "    # Prediction\n",
    "    print(model_name, 'Started Prediction')\n",
    "    predictions = model.transform(valid)\n",
    "    print(model_name, 'Finished Prediction')\n",
    "    \n",
    "    # Get F1 and Accuracy for Evaluation\n",
    "    # f1\n",
    "    print('F1 for {} is:'.format(model_name), evaluator.evaluate(predictions, {evaluator.metricName: \"f1\"}))\n",
    "    # accuracy\n",
    "    accuracy = predictions.filter(predictions.label == predictions.prediction).count() / (predictions.count())\n",
    "    print(\"The accuracy of the {} model is:\".format(model_name), accuracy)"
   ]
  },
  {
   "cell_type": "markdown",
   "metadata": {},
   "source": [
    "### Model Tuning for Best Models:\n",
    "\n",
    "\n",
    "We can now fine-tune our model with `paramGridbuilder` and `CrossValidator`. `Randome Forest` Would be my ML for this because this model offer a best F1 score (0.78), and accurary is 0.805 only in 2 minus and 70 seconds among our models.\n"
   ]
  },
  {
   "cell_type": "markdown",
   "metadata": {},
   "source": [
    "### Random Forest"
   ]
  },
  {
   "cell_type": "code",
   "execution_count": 79,
   "metadata": {},
   "outputs": [
    {
     "name": "stdout",
     "output_type": "stream",
     "text": [
      "cacheNodeIds: If false, the algorithm will pass trees to executors to match instances with nodes. If true, the algorithm will cache node IDs for each instance. Caching can speed up training of deeper trees. Users can set how often should the cache be checkpointed or disable it by setting checkpointInterval. (default: False)\n",
      "checkpointInterval: set checkpoint interval (>= 1) or disable checkpoint (-1). E.g. 10 means that the cache will get checkpointed every 10 iterations. Note: this setting will be ignored if the checkpoint directory is not set in the SparkContext. (default: 10)\n",
      "featureSubsetStrategy: The number of features to consider for splits at each tree node. Supported options: 'auto' (choose automatically for task: If numTrees == 1, set to 'all'. If numTrees > 1 (forest), set to 'sqrt' for classification and to 'onethird' for regression), 'all' (use all features), 'onethird' (use 1/3 of the features), 'sqrt' (use sqrt(number of features)), 'log2' (use log2(number of features)), 'n' (when n is in the range (0, 1.0], use n * number of features. When n is in the range (1, number of features), use n features). default = 'auto' (default: auto)\n",
      "featuresCol: features column name. (default: features, current: features)\n",
      "impurity: Criterion used for information gain calculation (case-insensitive). Supported options: entropy, gini (default: gini)\n",
      "labelCol: label column name. (default: label, current: label)\n",
      "maxBins: Max number of bins for discretizing continuous features.  Must be >=2 and >= number of categories for any categorical feature. (default: 32)\n",
      "maxDepth: Maximum depth of the tree. (>= 0) E.g., depth 0 means 1 leaf node; depth 1 means 1 internal node + 2 leaf nodes. (default: 5)\n",
      "maxMemoryInMB: Maximum memory in MB allocated to histogram aggregation. If too small, then 1 node will be split per iteration, and its aggregates may exceed this size. (default: 256)\n",
      "minInfoGain: Minimum information gain for a split to be considered at a tree node. (default: 0.0)\n",
      "minInstancesPerNode: Minimum number of instances each child must have after split. If a split causes the left or right child to have fewer than minInstancesPerNode, the split will be discarded as invalid. Should be >= 1. (default: 1)\n",
      "numTrees: Number of trees to train (>= 1). (default: 20)\n",
      "predictionCol: prediction column name. (default: prediction)\n",
      "probabilityCol: Column name for predicted class conditional probabilities. Note: Not all models output well-calibrated probability estimates! These probabilities should be treated as confidences, not precise probabilities. (default: probability)\n",
      "rawPredictionCol: raw prediction (a.k.a. confidence) column name. (default: rawPrediction)\n",
      "seed: random seed. (default: 2138781165882103807, current: 1996)\n",
      "subsamplingRate: Fraction of the training data used for learning each decision tree, in range (0, 1]. (default: 1.0)\n"
     ]
    }
   ],
   "source": [
    "# Check the Random Forest Para\n",
    "\n",
    "print(rf.explainParams())"
   ]
  },
  {
   "cell_type": "markdown",
   "metadata": {},
   "source": [
    "## Parameters\n",
    "\n",
    "For our RF model tuning, I'll use numTrees and maxDepth.\n",
    "- **NumTrees**: To improve performance, I've decided to increase the number of trees to 100. Because these trees are individual randomised models in an ensemble, this numTrees parameter does not pose a significant risk of overfitting.\n",
    "- **Maxdepth**: To reduce the possibility of overfitting, I chose a maximum of 15. Anything above 15 greatly increases the risk of overfitting.\n",
    "\n",
    "- **Numfolds**: numFolds was originally set to 5, but I had to reduce it to 2 to speed up the process."
   ]
  },
  {
   "cell_type": "markdown",
   "metadata": {},
   "source": [
    "It could take around 1 hour for this model to train"
   ]
  },
  {
   "cell_type": "code",
   "execution_count": 80,
   "metadata": {},
   "outputs": [],
   "source": [
    "paramGrid = ParamGridBuilder() \\\n",
    "    .addGrid(rf.numTrees,[20, 50, 100]) \\\n",
    "    .addGrid(rf.maxDepth,[5, 10, 15]) \\\n",
    "    .build()\n",
    "\n",
    "\n",
    "crossval = CrossValidator(estimator=rf,\n",
    "                          estimatorParamMaps=paramGrid,\n",
    "                          evaluator=MulticlassClassificationEvaluator(metricName = \"f1\"),\n",
    "                          numFolds=2)"
   ]
  },
  {
   "cell_type": "code",
   "execution_count": null,
   "metadata": {},
   "outputs": [],
   "source": [
    "# to get the time of our model\n",
    "%time\n",
    "cvModel = crossval.fit(train)"
   ]
  },
  {
   "cell_type": "code",
   "execution_count": 82,
   "metadata": {},
   "outputs": [
    {
     "data": {
      "text/plain": [
       "[0.6856310080190677,\n",
       " 0.6873249631031446,\n",
       " 0.6873249631031446,\n",
       " 0.7075516290301738,\n",
       " 0.7075516290301738,\n",
       " 0.7075516290301738,\n",
       " 0.7093863071008594,\n",
       " 0.7055210432850221,\n",
       " 0.7055210432850221]"
      ]
     },
     "execution_count": 82,
     "metadata": {},
     "output_type": "execute_result"
    }
   ],
   "source": [
    "# Get the average of metrics\n",
    "cvModel.avgMetrics"
   ]
  },
  {
   "cell_type": "markdown",
   "metadata": {},
   "source": [
    "### Best Model Performance Results:\n",
    "We can now get the final results for our random forest model with its metrics"
   ]
  },
  {
   "cell_type": "code",
   "execution_count": 87,
   "metadata": {},
   "outputs": [],
   "source": [
    "result_df = cvModel.transform(valid)\n",
    "# For the accuracy\n",
    "accuracy = result_df.filter(result_df.label == result_df.prediction).count() / (result_df.count())\n",
    "best_model = cvModel.bestModel"
   ]
  },
  {
   "cell_type": "code",
   "execution_count": 88,
   "metadata": {},
   "outputs": [
    {
     "name": "stdout",
     "output_type": "stream",
     "text": [
      "Best Param (number of Trees):  100\n",
      "Best Param (MaxDepth):  5\n"
     ]
    }
   ],
   "source": [
    "print (\"Best Param (number of Trees): \", best_model._java_obj.getNumTrees())\n",
    "print (\"Best Param (MaxDepth): \", best_model._java_obj.getMaxDepth())"
   ]
  },
  {
   "cell_type": "code",
   "execution_count": 89,
   "metadata": {},
   "outputs": [
    {
     "name": "stdout",
     "output_type": "stream",
     "text": [
      "F1 for our model is: 0.7550802139037434\n"
     ]
    }
   ],
   "source": [
    "print('F1 for our model is:', evaluator.evaluate(predictions, {evaluator.metricName: \"f1\"}))"
   ]
  },
  {
   "cell_type": "code",
   "execution_count": 90,
   "metadata": {},
   "outputs": [
    {
     "name": "stdout",
     "output_type": "stream",
     "text": [
      "Accuracy for our model is: 0.75\n"
     ]
    }
   ],
   "source": [
    "print('Accuracy for our model is:', evaluator.evaluate(predictions, {evaluator.metricName: \"accuracy\"}))"
   ]
  },
  {
   "cell_type": "markdown",
   "metadata": {},
   "source": [
    "Here our RF model achieved a F1 and accuracy of 0.75. Accuracy means the number of correctly predicted data points out of all the predictions. So for an accuracy of 0.75 or 75% we get 75 correct predictions out of 100 total predictions. In our context we can use a confusion matrix to think about this:\n",
    "\n",
    "\n",
    "Where TP = True Positives, TN = True Negatives, FP = False Positives, and FN = False Negatives."
   ]
  },
  {
   "cell_type": "markdown",
   "metadata": {},
   "source": [
    "F1 here is a measure of the model's accuracy on a dataset and is used to evaluate binary classification systems like we have here. F1-score is a way of combining the precision and recall of the model and gives a better measure of the incorrectly classified cases than accuracy metric. F1 is also better for dealing with imbalanced classes like we have here. "
   ]
  },
  {
   "cell_type": "markdown",
   "metadata": {},
   "source": [
    "#### Feature Importance:\n",
    "\n",
    "Finally, we can check the feature importance for our best model and plot this in a chart."
   ]
  },
  {
   "cell_type": "code",
   "execution_count": 92,
   "metadata": {},
   "outputs": [],
   "source": [
    "# Get the importances of features\n",
    "importances_df = best_model.featureImportances\n",
    "# assign to x axis for plotting\n",
    "x_values = list(range(len(importances_df)))\n",
    "# for the y axis\n",
    "feature_list = list([\"gender\", \"membership\", \"Average Songs\", \"Total Thumbs Down\", \"Total Thumbs Up\", \"Total Add Friend\", \"Total Playlist\", \"Number of Artists\", \"days\"])"
   ]
  },
  {
   "cell_type": "code",
   "execution_count": 94,
   "metadata": {},
   "outputs": [
    {
     "data": {
      "image/png": "[encoded data removed]",
      "text/plain": [
       "<matplotlib.figure.Figure at 0x7f12802d5b00>"
      ]
     },
     "metadata": {
      "needs_background": "light"
     },
     "output_type": "display_data"
    }
   ],
   "source": [
    "# Let's plot to find the importance in these features\n",
    "plt.figure(figsize=[8,6])\n",
    "plt.bar(x_values, importances_df, orientation = 'vertical')\n",
    "plt.xticks(x_values, feature_list, rotation=40)\n",
    "plt.ylabel('Importance')\n",
    "plt.xlabel('Feature')\n",
    "plt.title('Important Features')\n",
    "plt.show();"
   ]
  },
  {
   "cell_type": "markdown",
   "metadata": {},
   "source": [
    "We can see here that the most important feature was `days since registration`. `Gender` and `educational level` were the least important characteristics."
   ]
  },
  {
   "cell_type": "markdown",
   "metadata": {},
   "source": [
    "# Conclusion"
   ]
  },
  {
   "cell_type": "markdown",
   "metadata": {},
   "source": [
    "We began the project with a small dataset of 128MB and 225 unique customers. We explored the dataset for useful features to predict the `churn` after loaded and cleaned our data. Moreover, we were able to build  out the most promising features. \n",
    "The features were then preprocessed and used with various ML algorithms. Because Random Forest performed the best, we tuned the model to an accuracy and F1 score of 0.75.\n",
    "\n",
    "### Business Impact:\n",
    "\n",
    "Sparkify can now use this information to focus on specific customers who are likely to churn and provide attractive promotions for them to stay, which could help Sparkify save their revenue while providing a good deal to the customer. \n",
    "\n",
    "We could focus into newer customers with a nice free trial of the premium service without those pesky ads because we discovered that they are more likely to churn. Sparkify could also work on a music recommendation system to recommend songs that users will like more and dislike less.\n",
    "\n"
   ]
  },
  {
   "cell_type": "markdown",
   "metadata": {},
   "source": [
    "# Reference \n",
    "\n",
    "https://stackoverflow.com/questions/45946349/python-spark-cumulative-sum-by-group-using-dataframe\n",
    "https://stackoverflow.com/questions/35247168/spark-sql-row-number-partitionby-sort-desc\n",
    "https://sparkbyexamples.com/pyspark/pyspark-udf-user-defined-function/\n",
    "https://machinelearningmastery.com/train-test-split-for-evaluating-machine-learning-algorithms/\n",
    "https://sparkbyexamples.com/pyspark/pyspark-window-functions/\n",
    "https://stackoverflow.com/questions/21702342/creating-a-new-column-based-on-if-elif-else-condition     \n",
    "https://stackoverflow.com/questions/46921465/extract-substring-from-text-in-a-pandas-dataframe-as-new-column     \n",
    "https://developers.whatismybrowser.com/useragents/explore/layout_engine_name/trident/     \n",
    "https://sparkbyexamples.com/pyspark/pyspark-when-otherwise/     \n",
    "https://stackoverflow.com/questions/52943627/convert-a-pandas-dataframe-to-a-pyspark-dataframe     \n",
    "https://stackoverflow.com/questions/29600673/how-to-delete-columns-in-pyspark-dataframe      \n",
    "https://stackoverflow.com/questions/48738354/having-troubles-joining-3-dataframes-pyspark     \n",
    "https://stackoverflow.com/questions/59886143/spark-dataframe-how-to-keep-only-latest-record-for-each-group-based-on-id-and    \n",
    "https://stackoverflow.com/questions/46956026/how-to-convert-column-with-string-type-to-int-form-in-pyspark-data-frame    \n",
    "https://medium.com/swlh/logistic-regression-with-pyspark-60295d41221     \n",
    "https://towardsdatascience.com/machine-learning-with-pyspark-and-mllib-solving-a-binary-classification-problem-96396065d2aa     \n",
    "https://spark.apache.org/docs/latest/ml-classification-regression.html#logistic-regression     \n",
    "https://stackoverflow.com/questions/60772315/how-to-evaluate-a-classifier-with-apache-spark-2-4-5-and-pyspark-python       \n",
    "https://spark.apache.org/docs/2.2.0/ml-classification-regression.html    \n",
    "https://scikit-learn.org/stable/modules/generated/sklearn.preprocessing.StandardScaler.html      \n",
    "https://stackoverflow.com/questions/32565829/simple-way-to-measure-cell-execution-time-in-ipython-notebook     \n",
    "https://www.silect.is/blog/random-forest-models-in-spark-ml/     \n",
    "https://stackoverflow.com/questions/75440/how-do-i-get-the-string-with-name-of-a-class\n"
   ]
  }
 ],
 "metadata": {
  "kernelspec": {
   "display_name": "Python 3",
   "language": "python",
   "name": "python3"
  },
  "language_info": {
   "codemirror_mode": {
    "name": "ipython",
    "version": 3
   },
   "file_extension": ".py",
   "mimetype": "text/x-python",
   "name": "python",
   "nbconvert_exporter": "python",
   "pygments_lexer": "ipython3",
   "version": "3.6.3"
  }
 },
 "nbformat": 4,
 "nbformat_minor": 2
}
